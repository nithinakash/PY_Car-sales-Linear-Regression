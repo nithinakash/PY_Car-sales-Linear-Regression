{
 "cells": [
  {
   "cell_type": "markdown",
   "id": "65e75d6a",
   "metadata": {},
   "source": [
    "### Required Packages"
   ]
  },
  {
   "cell_type": "code",
   "execution_count": 57,
   "id": "1c24fbaa",
   "metadata": {},
   "outputs": [],
   "source": [
    "import numpy as np\n",
    "import pandas as pd\n",
    "import matplotlib.pyplot as plt\n",
    "import seaborn as sns\n",
    "import scipy.stats as stats\n",
    "\n",
    "%matplotlib inline"
   ]
  },
  {
   "cell_type": "code",
   "execution_count": 58,
   "id": "c44dad7e",
   "metadata": {},
   "outputs": [],
   "source": [
    "import statsmodels.formula.api as smf\n",
    "from sklearn.model_selection import train_test_split\n",
    "from sklearn.metrics import r2_score , mean_squared_error , mean_absolute_error , mean_absolute_percentage_error\n",
    "from sklearn.feature_selection import f_regression\n",
    "from statsmodels.stats.outliers_influence import variance_inflation_factor\n",
    "from patsy import dmatrices"
   ]
  },
  {
   "cell_type": "markdown",
   "id": "90ebca80",
   "metadata": {},
   "source": [
    "### Datasets"
   ]
  },
  {
   "cell_type": "code",
   "execution_count": 59,
   "id": "149e74fe",
   "metadata": {},
   "outputs": [],
   "source": [
    "car = pd.read_csv('C:/Users/Nithin/Downloads/Car Sales/Datasets/Car_sales - 1628437338663.csv')"
   ]
  },
  {
   "cell_type": "markdown",
   "id": "d6c3da5e",
   "metadata": {},
   "source": [
    "### UDF"
   ]
  },
  {
   "cell_type": "code",
   "execution_count": 60,
   "id": "75ecd3a9",
   "metadata": {},
   "outputs": [],
   "source": [
    "def continuous_var_summary( x ):\n",
    "    \n",
    "    # freq and missings\n",
    "    n_total = x.shape[0]\n",
    "    n_miss = x.isna().sum()\n",
    "    perc_miss = n_miss * 100 / n_total\n",
    "    \n",
    "    # outliers - iqr\n",
    "    q1 = x.quantile(0.25)\n",
    "    q3 = x.quantile(0.75)\n",
    "    iqr = q3 - q1\n",
    "    lc_iqr = q1 - 1.5 * iqr\n",
    "    uc_iqr = q3 + 1.5 * iqr\n",
    "    \n",
    "    \n",
    "    return pd.Series( [ x.dtype, x.nunique(), n_total, x.count(), n_miss, perc_miss,\n",
    "                       x.sum(), x.mean(), x.std(), x.var(), \n",
    "                       lc_iqr, uc_iqr, \n",
    "                       x.min(), x.quantile(0.01), x.quantile(0.05), x.quantile(0.10), \n",
    "                       x.quantile(0.25), x.quantile(0.5), x.quantile(0.75), \n",
    "                       x.quantile(0.90), x.quantile(0.95), x.quantile(0.99), x.max() ], \n",
    "                     \n",
    "                    index = ['dtype', 'cardinality', 'n_tot', 'n', 'nmiss', 'perc_miss',\n",
    "                             'sum', 'mean', 'std', 'var',\n",
    "                        'lc_iqr', 'uc_iqr',\n",
    "                        'min', 'p1', 'p5', 'p10', 'p25', 'p50', 'p75', 'p90', 'p95', 'p99', 'max']) "
   ]
  },
  {
   "cell_type": "code",
   "execution_count": 61,
   "id": "2849598d",
   "metadata": {},
   "outputs": [],
   "source": [
    "# Create Data audit Report for categorical variables\n",
    "def categorical_var_summary( x ):\n",
    "    Mode = x.value_counts().sort_values(ascending = False)[0:1].reset_index()\n",
    "    return pd.Series([x.count(), x.isnull().sum(), Mode.iloc[0, 0], Mode.iloc[0, 1], \n",
    "                          round(Mode.iloc[0, 1] * 100 / x.count(), 2)], \n",
    "                     \n",
    "                  index = ['N', 'NMISS', 'MODE', 'FREQ', 'PERCENT'])"
   ]
  },
  {
   "cell_type": "code",
   "execution_count": 62,
   "id": "aad68c6f",
   "metadata": {},
   "outputs": [],
   "source": [
    "# Missing value imputation for continuous variables\n",
    "def missing_imputation( x, stats = 'mean' ):\n",
    "    if (x.dtypes == 'float64') | (x.dtypes == 'int64'):\n",
    "        x = x.fillna(x.mean()) if stats == 'mean' else x.fillna(x.median())\n",
    "    return x"
   ]
  },
  {
   "cell_type": "code",
   "execution_count": 63,
   "id": "6bb1fc00",
   "metadata": {},
   "outputs": [],
   "source": [
    "# An utility function to create dummy variable\n",
    "def create_dummies(df, colname):\n",
    "    col_dummies = pd.get_dummies(df[colname], prefix = colname, drop_first = True)\n",
    "    df = pd.concat([df, col_dummies], axis = 1)\n",
    "    df.drop(colname, axis = 1, inplace = True )\n",
    "    return df"
   ]
  },
  {
   "cell_type": "markdown",
   "id": "5dabd963",
   "metadata": {},
   "source": [
    "### Data Inspection"
   ]
  },
  {
   "cell_type": "code",
   "execution_count": 64,
   "id": "787ff757",
   "metadata": {},
   "outputs": [
    {
     "data": {
      "text/plain": [
       "Index(['Manufacturer', 'Model', 'Sales_in_thousands', 'four_year_resale_value',\n",
       "       'Vehicle_type', 'Price_in_thousands', 'Engine_size', 'Horsepower',\n",
       "       'Wheelbase', 'Width', 'Length', 'Curb_weight', 'Fuel_capacity',\n",
       "       'Fuel_efficiency', 'Latest_Launch', 'Power_perf_factor'],\n",
       "      dtype='object')"
      ]
     },
     "execution_count": 64,
     "metadata": {},
     "output_type": "execute_result"
    }
   ],
   "source": [
    "car.columns"
   ]
  },
  {
   "cell_type": "code",
   "execution_count": 65,
   "id": "b1b01a0a",
   "metadata": {},
   "outputs": [
    {
     "name": "stdout",
     "output_type": "stream",
     "text": [
      "<class 'pandas.core.frame.DataFrame'>\n",
      "RangeIndex: 157 entries, 0 to 156\n",
      "Data columns (total 16 columns):\n",
      " #   Column                  Non-Null Count  Dtype  \n",
      "---  ------                  --------------  -----  \n",
      " 0   Manufacturer            157 non-null    object \n",
      " 1   Model                   157 non-null    object \n",
      " 2   Sales_in_thousands      157 non-null    float64\n",
      " 3   four_year_resale_value  121 non-null    float64\n",
      " 4   Vehicle_type            157 non-null    object \n",
      " 5   Price_in_thousands      155 non-null    float64\n",
      " 6   Engine_size             156 non-null    float64\n",
      " 7   Horsepower              156 non-null    float64\n",
      " 8   Wheelbase               156 non-null    float64\n",
      " 9   Width                   156 non-null    float64\n",
      " 10  Length                  156 non-null    float64\n",
      " 11  Curb_weight             155 non-null    float64\n",
      " 12  Fuel_capacity           156 non-null    float64\n",
      " 13  Fuel_efficiency         154 non-null    float64\n",
      " 14  Latest_Launch           157 non-null    object \n",
      " 15  Power_perf_factor       155 non-null    float64\n",
      "dtypes: float64(12), object(4)\n",
      "memory usage: 19.8+ KB\n"
     ]
    }
   ],
   "source": [
    "car.info()"
   ]
  },
  {
   "cell_type": "code",
   "execution_count": 66,
   "id": "7f7ea6e8",
   "metadata": {},
   "outputs": [
    {
     "data": {
      "text/plain": [
       "Manufacturer               30\n",
       "Model                     156\n",
       "Sales_in_thousands        157\n",
       "four_year_resale_value    117\n",
       "Vehicle_type                2\n",
       "Price_in_thousands        152\n",
       "Engine_size                31\n",
       "Horsepower                 66\n",
       "Wheelbase                  88\n",
       "Width                      78\n",
       "Length                    127\n",
       "Curb_weight               147\n",
       "Fuel_capacity              55\n",
       "Fuel_efficiency            20\n",
       "Latest_Launch             130\n",
       "Power_perf_factor         154\n",
       "dtype: int64"
      ]
     },
     "execution_count": 66,
     "metadata": {},
     "output_type": "execute_result"
    }
   ],
   "source": [
    "car.nunique()\n",
    "\n",
    "# If variable with all unique value & categorical can be rejcted"
   ]
  },
  {
   "cell_type": "code",
   "execution_count": 67,
   "id": "31636974",
   "metadata": {},
   "outputs": [
    {
     "data": {
      "text/plain": [
       "Manufacturer               object\n",
       "Model                      object\n",
       "Sales_in_thousands        float64\n",
       "four_year_resale_value    float64\n",
       "Vehicle_type               object\n",
       "Price_in_thousands        float64\n",
       "Engine_size               float64\n",
       "Horsepower                float64\n",
       "Wheelbase                 float64\n",
       "Width                     float64\n",
       "Length                    float64\n",
       "Curb_weight               float64\n",
       "Fuel_capacity             float64\n",
       "Fuel_efficiency           float64\n",
       "Latest_Launch              object\n",
       "Power_perf_factor         float64\n",
       "dtype: object"
      ]
     },
     "execution_count": 67,
     "metadata": {},
     "output_type": "execute_result"
    }
   ],
   "source": [
    "car.dtypes"
   ]
  },
  {
   "cell_type": "code",
   "execution_count": 68,
   "id": "3b8346b2",
   "metadata": {},
   "outputs": [],
   "source": [
    "# Split based on dtypes\n",
    "\n",
    "cont = car.select_dtypes(['int64','float64']).columns\n",
    "cat = car.select_dtypes(['object']).columns"
   ]
  },
  {
   "cell_type": "code",
   "execution_count": 69,
   "id": "2ea05ff6",
   "metadata": {},
   "outputs": [],
   "source": [
    "car_cont = car[cont]\n",
    "car_cat = car[cat]"
   ]
  },
  {
   "cell_type": "code",
   "execution_count": 70,
   "id": "37492006",
   "metadata": {},
   "outputs": [
    {
     "data": {
      "text/html": [
       "<div>\n",
       "<style scoped>\n",
       "    .dataframe tbody tr th:only-of-type {\n",
       "        vertical-align: middle;\n",
       "    }\n",
       "\n",
       "    .dataframe tbody tr th {\n",
       "        vertical-align: top;\n",
       "    }\n",
       "\n",
       "    .dataframe thead th {\n",
       "        text-align: right;\n",
       "    }\n",
       "</style>\n",
       "<table border=\"1\" class=\"dataframe\">\n",
       "  <thead>\n",
       "    <tr style=\"text-align: right;\">\n",
       "      <th></th>\n",
       "      <th>Sales_in_thousands</th>\n",
       "      <th>four_year_resale_value</th>\n",
       "      <th>Price_in_thousands</th>\n",
       "      <th>Engine_size</th>\n",
       "      <th>Horsepower</th>\n",
       "      <th>Wheelbase</th>\n",
       "      <th>Width</th>\n",
       "      <th>Length</th>\n",
       "      <th>Curb_weight</th>\n",
       "      <th>Fuel_capacity</th>\n",
       "      <th>Fuel_efficiency</th>\n",
       "      <th>Power_perf_factor</th>\n",
       "    </tr>\n",
       "  </thead>\n",
       "  <tbody>\n",
       "    <tr>\n",
       "      <th>dtype</th>\n",
       "      <td>float64</td>\n",
       "      <td>float64</td>\n",
       "      <td>float64</td>\n",
       "      <td>float64</td>\n",
       "      <td>float64</td>\n",
       "      <td>float64</td>\n",
       "      <td>float64</td>\n",
       "      <td>float64</td>\n",
       "      <td>float64</td>\n",
       "      <td>float64</td>\n",
       "      <td>float64</td>\n",
       "      <td>float64</td>\n",
       "    </tr>\n",
       "    <tr>\n",
       "      <th>cardinality</th>\n",
       "      <td>157</td>\n",
       "      <td>117</td>\n",
       "      <td>152</td>\n",
       "      <td>31</td>\n",
       "      <td>66</td>\n",
       "      <td>88</td>\n",
       "      <td>78</td>\n",
       "      <td>127</td>\n",
       "      <td>147</td>\n",
       "      <td>55</td>\n",
       "      <td>20</td>\n",
       "      <td>154</td>\n",
       "    </tr>\n",
       "    <tr>\n",
       "      <th>n_tot</th>\n",
       "      <td>157</td>\n",
       "      <td>157</td>\n",
       "      <td>157</td>\n",
       "      <td>157</td>\n",
       "      <td>157</td>\n",
       "      <td>157</td>\n",
       "      <td>157</td>\n",
       "      <td>157</td>\n",
       "      <td>157</td>\n",
       "      <td>157</td>\n",
       "      <td>157</td>\n",
       "      <td>157</td>\n",
       "    </tr>\n",
       "    <tr>\n",
       "      <th>n</th>\n",
       "      <td>157</td>\n",
       "      <td>121</td>\n",
       "      <td>155</td>\n",
       "      <td>156</td>\n",
       "      <td>156</td>\n",
       "      <td>156</td>\n",
       "      <td>156</td>\n",
       "      <td>156</td>\n",
       "      <td>155</td>\n",
       "      <td>156</td>\n",
       "      <td>154</td>\n",
       "      <td>155</td>\n",
       "    </tr>\n",
       "    <tr>\n",
       "      <th>nmiss</th>\n",
       "      <td>0</td>\n",
       "      <td>36</td>\n",
       "      <td>2</td>\n",
       "      <td>1</td>\n",
       "      <td>1</td>\n",
       "      <td>1</td>\n",
       "      <td>1</td>\n",
       "      <td>1</td>\n",
       "      <td>2</td>\n",
       "      <td>1</td>\n",
       "      <td>3</td>\n",
       "      <td>2</td>\n",
       "    </tr>\n",
       "    <tr>\n",
       "      <th>perc_miss</th>\n",
       "      <td>0.0</td>\n",
       "      <td>22.929936</td>\n",
       "      <td>1.273885</td>\n",
       "      <td>0.636943</td>\n",
       "      <td>0.636943</td>\n",
       "      <td>0.636943</td>\n",
       "      <td>0.636943</td>\n",
       "      <td>0.636943</td>\n",
       "      <td>1.273885</td>\n",
       "      <td>0.636943</td>\n",
       "      <td>1.910828</td>\n",
       "      <td>1.273885</td>\n",
       "    </tr>\n",
       "    <tr>\n",
       "      <th>sum</th>\n",
       "      <td>8320.698</td>\n",
       "      <td>2186.83</td>\n",
       "      <td>4245.567</td>\n",
       "      <td>477.5</td>\n",
       "      <td>29008.0</td>\n",
       "      <td>16768.0</td>\n",
       "      <td>11099.4</td>\n",
       "      <td>29225.6</td>\n",
       "      <td>523.594</td>\n",
       "      <td>2800.5</td>\n",
       "      <td>3672.0</td>\n",
       "      <td>11941.756636</td>\n",
       "    </tr>\n",
       "    <tr>\n",
       "      <th>mean</th>\n",
       "      <td>52.998076</td>\n",
       "      <td>18.072975</td>\n",
       "      <td>27.390755</td>\n",
       "      <td>3.060897</td>\n",
       "      <td>185.948718</td>\n",
       "      <td>107.487179</td>\n",
       "      <td>71.15</td>\n",
       "      <td>187.34359</td>\n",
       "      <td>3.378026</td>\n",
       "      <td>17.951923</td>\n",
       "      <td>23.844156</td>\n",
       "      <td>77.043591</td>\n",
       "    </tr>\n",
       "    <tr>\n",
       "      <th>std</th>\n",
       "      <td>68.029422</td>\n",
       "      <td>11.453384</td>\n",
       "      <td>14.351653</td>\n",
       "      <td>1.044653</td>\n",
       "      <td>56.700321</td>\n",
       "      <td>7.641303</td>\n",
       "      <td>3.451872</td>\n",
       "      <td>13.431754</td>\n",
       "      <td>0.630502</td>\n",
       "      <td>3.887921</td>\n",
       "      <td>4.282706</td>\n",
       "      <td>25.142664</td>\n",
       "    </tr>\n",
       "    <tr>\n",
       "      <th>var</th>\n",
       "      <td>4628.002257</td>\n",
       "      <td>131.180007</td>\n",
       "      <td>205.969949</td>\n",
       "      <td>1.0913</td>\n",
       "      <td>3214.926385</td>\n",
       "      <td>58.389512</td>\n",
       "      <td>11.915419</td>\n",
       "      <td>180.412023</td>\n",
       "      <td>0.397532</td>\n",
       "      <td>15.115932</td>\n",
       "      <td>18.341567</td>\n",
       "      <td>632.153558</td>\n",
       "    </tr>\n",
       "    <tr>\n",
       "      <th>lc_iqr</th>\n",
       "      <td>-66.649</td>\n",
       "      <td>-1.6625</td>\n",
       "      <td>-2.8775</td>\n",
       "      <td>0.3875</td>\n",
       "      <td>51.25</td>\n",
       "      <td>89.2</td>\n",
       "      <td>60.8625</td>\n",
       "      <td>149.75</td>\n",
       "      <td>1.72825</td>\n",
       "      <td>10.1375</td>\n",
       "      <td>13.5</td>\n",
       "      <td>16.896951</td>\n",
       "    </tr>\n",
       "    <tr>\n",
       "      <th>uc_iqr</th>\n",
       "      <td>148.719</td>\n",
       "      <td>32.7975</td>\n",
       "      <td>52.8425</td>\n",
       "      <td>5.4875</td>\n",
       "      <td>313.25</td>\n",
       "      <td>126.0</td>\n",
       "      <td>80.9625</td>\n",
       "      <td>223.95</td>\n",
       "      <td>5.04225</td>\n",
       "      <td>25.2375</td>\n",
       "      <td>33.5</td>\n",
       "      <td>132.925634</td>\n",
       "    </tr>\n",
       "    <tr>\n",
       "      <th>min</th>\n",
       "      <td>0.11</td>\n",
       "      <td>5.16</td>\n",
       "      <td>9.235</td>\n",
       "      <td>1.0</td>\n",
       "      <td>55.0</td>\n",
       "      <td>92.6</td>\n",
       "      <td>62.6</td>\n",
       "      <td>149.4</td>\n",
       "      <td>1.895</td>\n",
       "      <td>10.3</td>\n",
       "      <td>15.0</td>\n",
       "      <td>23.276272</td>\n",
       "    </tr>\n",
       "    <tr>\n",
       "      <th>p1</th>\n",
       "      <td>0.93728</td>\n",
       "      <td>6.173</td>\n",
       "      <td>10.23144</td>\n",
       "      <td>1.555</td>\n",
       "      <td>96.4</td>\n",
       "      <td>92.875</td>\n",
       "      <td>66.085</td>\n",
       "      <td>154.915</td>\n",
       "      <td>2.2454</td>\n",
       "      <td>11.9</td>\n",
       "      <td>15.0</td>\n",
       "      <td>38.46192</td>\n",
       "    </tr>\n",
       "    <tr>\n",
       "      <th>p5</th>\n",
       "      <td>1.8708</td>\n",
       "      <td>7.85</td>\n",
       "      <td>12.469</td>\n",
       "      <td>1.8</td>\n",
       "      <td>114.5</td>\n",
       "      <td>95.875</td>\n",
       "      <td>66.5</td>\n",
       "      <td>163.675</td>\n",
       "      <td>2.4235</td>\n",
       "      <td>12.5</td>\n",
       "      <td>16.65</td>\n",
       "      <td>46.203997</td>\n",
       "    </tr>\n",
       "    <tr>\n",
       "      <th>p10</th>\n",
       "      <td>5.4536</td>\n",
       "      <td>9.125</td>\n",
       "      <td>13.9708</td>\n",
       "      <td>1.95</td>\n",
       "      <td>120.0</td>\n",
       "      <td>98.65</td>\n",
       "      <td>66.9</td>\n",
       "      <td>173.0</td>\n",
       "      <td>2.6062</td>\n",
       "      <td>13.2</td>\n",
       "      <td>18.3</td>\n",
       "      <td>48.447741</td>\n",
       "    </tr>\n",
       "    <tr>\n",
       "      <th>p25</th>\n",
       "      <td>14.114</td>\n",
       "      <td>11.26</td>\n",
       "      <td>18.0175</td>\n",
       "      <td>2.3</td>\n",
       "      <td>149.5</td>\n",
       "      <td>103.0</td>\n",
       "      <td>68.4</td>\n",
       "      <td>177.575</td>\n",
       "      <td>2.971</td>\n",
       "      <td>15.8</td>\n",
       "      <td>21.0</td>\n",
       "      <td>60.407707</td>\n",
       "    </tr>\n",
       "    <tr>\n",
       "      <th>p50</th>\n",
       "      <td>29.45</td>\n",
       "      <td>14.18</td>\n",
       "      <td>22.799</td>\n",
       "      <td>3.0</td>\n",
       "      <td>177.5</td>\n",
       "      <td>107.0</td>\n",
       "      <td>70.55</td>\n",
       "      <td>187.9</td>\n",
       "      <td>3.342</td>\n",
       "      <td>17.2</td>\n",
       "      <td>24.0</td>\n",
       "      <td>72.030917</td>\n",
       "    </tr>\n",
       "    <tr>\n",
       "      <th>p75</th>\n",
       "      <td>67.956</td>\n",
       "      <td>19.875</td>\n",
       "      <td>31.9475</td>\n",
       "      <td>3.575</td>\n",
       "      <td>215.0</td>\n",
       "      <td>112.2</td>\n",
       "      <td>73.425</td>\n",
       "      <td>196.125</td>\n",
       "      <td>3.7995</td>\n",
       "      <td>19.575</td>\n",
       "      <td>26.0</td>\n",
       "      <td>89.414878</td>\n",
       "    </tr>\n",
       "    <tr>\n",
       "      <th>p90</th>\n",
       "      <td>127.6416</td>\n",
       "      <td>32.075</td>\n",
       "      <td>44.017</td>\n",
       "      <td>4.6</td>\n",
       "      <td>254.0</td>\n",
       "      <td>115.5</td>\n",
       "      <td>76.2</td>\n",
       "      <td>203.4</td>\n",
       "      <td>4.1186</td>\n",
       "      <td>23.2</td>\n",
       "      <td>28.7</td>\n",
       "      <td>108.499252</td>\n",
       "    </tr>\n",
       "    <tr>\n",
       "      <th>p95</th>\n",
       "      <td>185.3362</td>\n",
       "      <td>41.25</td>\n",
       "      <td>55.835</td>\n",
       "      <td>4.775</td>\n",
       "      <td>300.0</td>\n",
       "      <td>119.25</td>\n",
       "      <td>78.2</td>\n",
       "      <td>208.5</td>\n",
       "      <td>4.3891</td>\n",
       "      <td>25.4</td>\n",
       "      <td>31.0</td>\n",
       "      <td>125.091513</td>\n",
       "    </tr>\n",
       "    <tr>\n",
       "      <th>p99</th>\n",
       "      <td>260.64532</td>\n",
       "      <td>60.22</td>\n",
       "      <td>78.4798</td>\n",
       "      <td>5.7</td>\n",
       "      <td>325.75</td>\n",
       "      <td>134.375</td>\n",
       "      <td>79.19</td>\n",
       "      <td>219.305</td>\n",
       "      <td>5.39668</td>\n",
       "      <td>30.9</td>\n",
       "      <td>33.0</td>\n",
       "      <td>141.119461</td>\n",
       "    </tr>\n",
       "    <tr>\n",
       "      <th>max</th>\n",
       "      <td>540.561</td>\n",
       "      <td>67.55</td>\n",
       "      <td>85.5</td>\n",
       "      <td>8.0</td>\n",
       "      <td>450.0</td>\n",
       "      <td>138.7</td>\n",
       "      <td>79.9</td>\n",
       "      <td>224.5</td>\n",
       "      <td>5.572</td>\n",
       "      <td>32.0</td>\n",
       "      <td>45.0</td>\n",
       "      <td>188.144323</td>\n",
       "    </tr>\n",
       "  </tbody>\n",
       "</table>\n",
       "</div>"
      ],
      "text/plain": [
       "            Sales_in_thousands four_year_resale_value Price_in_thousands  \\\n",
       "dtype                  float64                float64            float64   \n",
       "cardinality                157                    117                152   \n",
       "n_tot                      157                    157                157   \n",
       "n                          157                    121                155   \n",
       "nmiss                        0                     36                  2   \n",
       "perc_miss                  0.0              22.929936           1.273885   \n",
       "sum                   8320.698                2186.83           4245.567   \n",
       "mean                 52.998076              18.072975          27.390755   \n",
       "std                  68.029422              11.453384          14.351653   \n",
       "var                4628.002257             131.180007         205.969949   \n",
       "lc_iqr                 -66.649                -1.6625            -2.8775   \n",
       "uc_iqr                 148.719                32.7975            52.8425   \n",
       "min                       0.11                   5.16              9.235   \n",
       "p1                     0.93728                  6.173           10.23144   \n",
       "p5                      1.8708                   7.85             12.469   \n",
       "p10                     5.4536                  9.125            13.9708   \n",
       "p25                     14.114                  11.26            18.0175   \n",
       "p50                      29.45                  14.18             22.799   \n",
       "p75                     67.956                 19.875            31.9475   \n",
       "p90                   127.6416                 32.075             44.017   \n",
       "p95                   185.3362                  41.25             55.835   \n",
       "p99                  260.64532                  60.22            78.4798   \n",
       "max                    540.561                  67.55               85.5   \n",
       "\n",
       "            Engine_size   Horsepower   Wheelbase      Width      Length  \\\n",
       "dtype           float64      float64     float64    float64     float64   \n",
       "cardinality          31           66          88         78         127   \n",
       "n_tot               157          157         157        157         157   \n",
       "n                   156          156         156        156         156   \n",
       "nmiss                 1            1           1          1           1   \n",
       "perc_miss      0.636943     0.636943    0.636943   0.636943    0.636943   \n",
       "sum               477.5      29008.0     16768.0    11099.4     29225.6   \n",
       "mean           3.060897   185.948718  107.487179      71.15   187.34359   \n",
       "std            1.044653    56.700321    7.641303   3.451872   13.431754   \n",
       "var              1.0913  3214.926385   58.389512  11.915419  180.412023   \n",
       "lc_iqr           0.3875        51.25        89.2    60.8625      149.75   \n",
       "uc_iqr           5.4875       313.25       126.0    80.9625      223.95   \n",
       "min                 1.0         55.0        92.6       62.6       149.4   \n",
       "p1                1.555         96.4      92.875     66.085     154.915   \n",
       "p5                  1.8        114.5      95.875       66.5     163.675   \n",
       "p10                1.95        120.0       98.65       66.9       173.0   \n",
       "p25                 2.3        149.5       103.0       68.4     177.575   \n",
       "p50                 3.0        177.5       107.0      70.55       187.9   \n",
       "p75               3.575        215.0       112.2     73.425     196.125   \n",
       "p90                 4.6        254.0       115.5       76.2       203.4   \n",
       "p95               4.775        300.0      119.25       78.2       208.5   \n",
       "p99                 5.7       325.75     134.375      79.19     219.305   \n",
       "max                 8.0        450.0       138.7       79.9       224.5   \n",
       "\n",
       "            Curb_weight Fuel_capacity Fuel_efficiency Power_perf_factor  \n",
       "dtype           float64       float64         float64           float64  \n",
       "cardinality         147            55              20               154  \n",
       "n_tot               157           157             157               157  \n",
       "n                   155           156             154               155  \n",
       "nmiss                 2             1               3                 2  \n",
       "perc_miss      1.273885      0.636943        1.910828          1.273885  \n",
       "sum             523.594        2800.5          3672.0      11941.756636  \n",
       "mean           3.378026     17.951923       23.844156         77.043591  \n",
       "std            0.630502      3.887921        4.282706         25.142664  \n",
       "var            0.397532     15.115932       18.341567        632.153558  \n",
       "lc_iqr          1.72825       10.1375            13.5         16.896951  \n",
       "uc_iqr          5.04225       25.2375            33.5        132.925634  \n",
       "min               1.895          10.3            15.0         23.276272  \n",
       "p1               2.2454          11.9            15.0          38.46192  \n",
       "p5               2.4235          12.5           16.65         46.203997  \n",
       "p10              2.6062          13.2            18.3         48.447741  \n",
       "p25               2.971          15.8            21.0         60.407707  \n",
       "p50               3.342          17.2            24.0         72.030917  \n",
       "p75              3.7995        19.575            26.0         89.414878  \n",
       "p90              4.1186          23.2            28.7        108.499252  \n",
       "p95              4.3891          25.4            31.0        125.091513  \n",
       "p99             5.39668          30.9            33.0        141.119461  \n",
       "max               5.572          32.0            45.0        188.144323  "
      ]
     },
     "execution_count": 70,
     "metadata": {},
     "output_type": "execute_result"
    }
   ],
   "source": [
    "car_cont.apply(continuous_var_summary)"
   ]
  },
  {
   "cell_type": "code",
   "execution_count": 71,
   "id": "d8c465d8",
   "metadata": {},
   "outputs": [
    {
     "data": {
      "text/html": [
       "<div>\n",
       "<style scoped>\n",
       "    .dataframe tbody tr th:only-of-type {\n",
       "        vertical-align: middle;\n",
       "    }\n",
       "\n",
       "    .dataframe tbody tr th {\n",
       "        vertical-align: top;\n",
       "    }\n",
       "\n",
       "    .dataframe thead th {\n",
       "        text-align: right;\n",
       "    }\n",
       "</style>\n",
       "<table border=\"1\" class=\"dataframe\">\n",
       "  <thead>\n",
       "    <tr style=\"text-align: right;\">\n",
       "      <th></th>\n",
       "      <th>Manufacturer</th>\n",
       "      <th>Model</th>\n",
       "      <th>Vehicle_type</th>\n",
       "      <th>Latest_Launch</th>\n",
       "    </tr>\n",
       "  </thead>\n",
       "  <tbody>\n",
       "    <tr>\n",
       "      <th>N</th>\n",
       "      <td>157</td>\n",
       "      <td>157</td>\n",
       "      <td>157</td>\n",
       "      <td>157</td>\n",
       "    </tr>\n",
       "    <tr>\n",
       "      <th>NMISS</th>\n",
       "      <td>0</td>\n",
       "      <td>0</td>\n",
       "      <td>0</td>\n",
       "      <td>0</td>\n",
       "    </tr>\n",
       "    <tr>\n",
       "      <th>MODE</th>\n",
       "      <td>Dodge</td>\n",
       "      <td>Neon</td>\n",
       "      <td>Passenger</td>\n",
       "      <td>10/5/2012</td>\n",
       "    </tr>\n",
       "    <tr>\n",
       "      <th>FREQ</th>\n",
       "      <td>11</td>\n",
       "      <td>2</td>\n",
       "      <td>116</td>\n",
       "      <td>2</td>\n",
       "    </tr>\n",
       "    <tr>\n",
       "      <th>PERCENT</th>\n",
       "      <td>7.01</td>\n",
       "      <td>1.27</td>\n",
       "      <td>73.89</td>\n",
       "      <td>1.27</td>\n",
       "    </tr>\n",
       "  </tbody>\n",
       "</table>\n",
       "</div>"
      ],
      "text/plain": [
       "        Manufacturer Model Vehicle_type Latest_Launch\n",
       "N                157   157          157           157\n",
       "NMISS              0     0            0             0\n",
       "MODE           Dodge  Neon    Passenger     10/5/2012\n",
       "FREQ              11     2          116             2\n",
       "PERCENT         7.01  1.27        73.89          1.27"
      ]
     },
     "execution_count": 71,
     "metadata": {},
     "output_type": "execute_result"
    }
   ],
   "source": [
    "car_cat.apply(categorical_var_summary)"
   ]
  },
  {
   "cell_type": "markdown",
   "id": "1a40f880",
   "metadata": {},
   "source": [
    "### Outlier Treatment"
   ]
  },
  {
   "cell_type": "code",
   "execution_count": 72,
   "id": "4c2153ee",
   "metadata": {},
   "outputs": [],
   "source": [
    "car_cont = car_cont.apply(lambda x : x.clip(lower = x.quantile(0.01),\n",
    "                                  upper = x.quantile(0.99)))"
   ]
  },
  {
   "cell_type": "code",
   "execution_count": 73,
   "id": "63a9cea6",
   "metadata": {},
   "outputs": [
    {
     "data": {
      "text/html": [
       "<div>\n",
       "<style scoped>\n",
       "    .dataframe tbody tr th:only-of-type {\n",
       "        vertical-align: middle;\n",
       "    }\n",
       "\n",
       "    .dataframe tbody tr th {\n",
       "        vertical-align: top;\n",
       "    }\n",
       "\n",
       "    .dataframe thead th {\n",
       "        text-align: right;\n",
       "    }\n",
       "</style>\n",
       "<table border=\"1\" class=\"dataframe\">\n",
       "  <thead>\n",
       "    <tr style=\"text-align: right;\">\n",
       "      <th></th>\n",
       "      <th>Sales_in_thousands</th>\n",
       "      <th>four_year_resale_value</th>\n",
       "      <th>Price_in_thousands</th>\n",
       "      <th>Engine_size</th>\n",
       "      <th>Horsepower</th>\n",
       "      <th>Wheelbase</th>\n",
       "      <th>Width</th>\n",
       "      <th>Length</th>\n",
       "      <th>Curb_weight</th>\n",
       "      <th>Fuel_capacity</th>\n",
       "      <th>Fuel_efficiency</th>\n",
       "      <th>Power_perf_factor</th>\n",
       "    </tr>\n",
       "  </thead>\n",
       "  <tbody>\n",
       "    <tr>\n",
       "      <th>dtype</th>\n",
       "      <td>float64</td>\n",
       "      <td>float64</td>\n",
       "      <td>float64</td>\n",
       "      <td>float64</td>\n",
       "      <td>float64</td>\n",
       "      <td>float64</td>\n",
       "      <td>float64</td>\n",
       "      <td>float64</td>\n",
       "      <td>float64</td>\n",
       "      <td>float64</td>\n",
       "      <td>float64</td>\n",
       "      <td>float64</td>\n",
       "    </tr>\n",
       "    <tr>\n",
       "      <th>cardinality</th>\n",
       "      <td>155</td>\n",
       "      <td>115</td>\n",
       "      <td>150</td>\n",
       "      <td>29</td>\n",
       "      <td>64</td>\n",
       "      <td>87</td>\n",
       "      <td>76</td>\n",
       "      <td>125</td>\n",
       "      <td>145</td>\n",
       "      <td>54</td>\n",
       "      <td>19</td>\n",
       "      <td>152</td>\n",
       "    </tr>\n",
       "    <tr>\n",
       "      <th>n_tot</th>\n",
       "      <td>157</td>\n",
       "      <td>157</td>\n",
       "      <td>157</td>\n",
       "      <td>157</td>\n",
       "      <td>157</td>\n",
       "      <td>157</td>\n",
       "      <td>157</td>\n",
       "      <td>157</td>\n",
       "      <td>157</td>\n",
       "      <td>157</td>\n",
       "      <td>157</td>\n",
       "      <td>157</td>\n",
       "    </tr>\n",
       "    <tr>\n",
       "      <th>n</th>\n",
       "      <td>157</td>\n",
       "      <td>121</td>\n",
       "      <td>155</td>\n",
       "      <td>156</td>\n",
       "      <td>156</td>\n",
       "      <td>156</td>\n",
       "      <td>156</td>\n",
       "      <td>156</td>\n",
       "      <td>155</td>\n",
       "      <td>156</td>\n",
       "      <td>154</td>\n",
       "      <td>155</td>\n",
       "    </tr>\n",
       "    <tr>\n",
       "      <th>nmiss</th>\n",
       "      <td>0</td>\n",
       "      <td>36</td>\n",
       "      <td>2</td>\n",
       "      <td>1</td>\n",
       "      <td>1</td>\n",
       "      <td>1</td>\n",
       "      <td>1</td>\n",
       "      <td>1</td>\n",
       "      <td>2</td>\n",
       "      <td>1</td>\n",
       "      <td>3</td>\n",
       "      <td>2</td>\n",
       "    </tr>\n",
       "    <tr>\n",
       "      <th>perc_miss</th>\n",
       "      <td>0.0</td>\n",
       "      <td>22.929936</td>\n",
       "      <td>1.273885</td>\n",
       "      <td>0.636943</td>\n",
       "      <td>0.636943</td>\n",
       "      <td>0.636943</td>\n",
       "      <td>0.636943</td>\n",
       "      <td>0.636943</td>\n",
       "      <td>1.273885</td>\n",
       "      <td>0.636943</td>\n",
       "      <td>1.910828</td>\n",
       "      <td>1.273885</td>\n",
       "    </tr>\n",
       "    <tr>\n",
       "      <th>sum</th>\n",
       "      <td>8025.5292</td>\n",
       "      <td>2180.421</td>\n",
       "      <td>4235.95548</td>\n",
       "      <td>475.81</td>\n",
       "      <td>28910.3</td>\n",
       "      <td>16760.1</td>\n",
       "      <td>11102.45</td>\n",
       "      <td>29223.94</td>\n",
       "      <td>523.77016</td>\n",
       "      <td>2799.9</td>\n",
       "      <td>3660.0</td>\n",
       "      <td>11911.685368</td>\n",
       "    </tr>\n",
       "    <tr>\n",
       "      <th>mean</th>\n",
       "      <td>51.11802</td>\n",
       "      <td>18.020008</td>\n",
       "      <td>27.328745</td>\n",
       "      <td>3.050064</td>\n",
       "      <td>185.322436</td>\n",
       "      <td>107.436538</td>\n",
       "      <td>71.169551</td>\n",
       "      <td>187.332949</td>\n",
       "      <td>3.379162</td>\n",
       "      <td>17.948077</td>\n",
       "      <td>23.766234</td>\n",
       "      <td>76.849583</td>\n",
       "    </tr>\n",
       "    <tr>\n",
       "      <th>std</th>\n",
       "      <td>57.722699</td>\n",
       "      <td>11.181335</td>\n",
       "      <td>14.06397</td>\n",
       "      <td>0.982279</td>\n",
       "      <td>52.81647</td>\n",
       "      <td>7.424295</td>\n",
       "      <td>3.390339</td>\n",
       "      <td>13.12035</td>\n",
       "      <td>0.621764</td>\n",
       "      <td>3.819854</td>\n",
       "      <td>3.994755</td>\n",
       "      <td>23.844968</td>\n",
       "    </tr>\n",
       "    <tr>\n",
       "      <th>var</th>\n",
       "      <td>3331.909938</td>\n",
       "      <td>125.02226</td>\n",
       "      <td>197.795238</td>\n",
       "      <td>0.964871</td>\n",
       "      <td>2789.579526</td>\n",
       "      <td>55.120156</td>\n",
       "      <td>11.4944</td>\n",
       "      <td>172.143594</td>\n",
       "      <td>0.386591</td>\n",
       "      <td>14.591287</td>\n",
       "      <td>15.958068</td>\n",
       "      <td>568.58248</td>\n",
       "    </tr>\n",
       "    <tr>\n",
       "      <th>lc_iqr</th>\n",
       "      <td>-66.649</td>\n",
       "      <td>-1.6625</td>\n",
       "      <td>-2.8775</td>\n",
       "      <td>0.3875</td>\n",
       "      <td>51.25</td>\n",
       "      <td>89.2</td>\n",
       "      <td>60.8625</td>\n",
       "      <td>149.75</td>\n",
       "      <td>1.72825</td>\n",
       "      <td>10.1375</td>\n",
       "      <td>13.5</td>\n",
       "      <td>16.896951</td>\n",
       "    </tr>\n",
       "    <tr>\n",
       "      <th>uc_iqr</th>\n",
       "      <td>148.719</td>\n",
       "      <td>32.7975</td>\n",
       "      <td>52.8425</td>\n",
       "      <td>5.4875</td>\n",
       "      <td>313.25</td>\n",
       "      <td>126.0</td>\n",
       "      <td>80.9625</td>\n",
       "      <td>223.95</td>\n",
       "      <td>5.04225</td>\n",
       "      <td>25.2375</td>\n",
       "      <td>33.5</td>\n",
       "      <td>132.925634</td>\n",
       "    </tr>\n",
       "    <tr>\n",
       "      <th>min</th>\n",
       "      <td>0.93728</td>\n",
       "      <td>6.173</td>\n",
       "      <td>10.23144</td>\n",
       "      <td>1.555</td>\n",
       "      <td>96.4</td>\n",
       "      <td>92.875</td>\n",
       "      <td>66.085</td>\n",
       "      <td>154.915</td>\n",
       "      <td>2.2454</td>\n",
       "      <td>11.9</td>\n",
       "      <td>15.0</td>\n",
       "      <td>38.46192</td>\n",
       "    </tr>\n",
       "    <tr>\n",
       "      <th>p1</th>\n",
       "      <td>0.946643</td>\n",
       "      <td>6.4234</td>\n",
       "      <td>10.476362</td>\n",
       "      <td>1.57975</td>\n",
       "      <td>98.38</td>\n",
       "      <td>92.99875</td>\n",
       "      <td>66.25825</td>\n",
       "      <td>156.22675</td>\n",
       "      <td>2.247884</td>\n",
       "      <td>11.9</td>\n",
       "      <td>15.0</td>\n",
       "      <td>39.285152</td>\n",
       "    </tr>\n",
       "    <tr>\n",
       "      <th>p5</th>\n",
       "      <td>1.8708</td>\n",
       "      <td>7.85</td>\n",
       "      <td>12.469</td>\n",
       "      <td>1.8</td>\n",
       "      <td>114.5</td>\n",
       "      <td>95.875</td>\n",
       "      <td>66.5</td>\n",
       "      <td>163.675</td>\n",
       "      <td>2.4235</td>\n",
       "      <td>12.5</td>\n",
       "      <td>16.65</td>\n",
       "      <td>46.203997</td>\n",
       "    </tr>\n",
       "    <tr>\n",
       "      <th>p10</th>\n",
       "      <td>5.4536</td>\n",
       "      <td>9.125</td>\n",
       "      <td>13.9708</td>\n",
       "      <td>1.95</td>\n",
       "      <td>120.0</td>\n",
       "      <td>98.65</td>\n",
       "      <td>66.9</td>\n",
       "      <td>173.0</td>\n",
       "      <td>2.6062</td>\n",
       "      <td>13.2</td>\n",
       "      <td>18.3</td>\n",
       "      <td>48.447741</td>\n",
       "    </tr>\n",
       "    <tr>\n",
       "      <th>p25</th>\n",
       "      <td>14.114</td>\n",
       "      <td>11.26</td>\n",
       "      <td>18.0175</td>\n",
       "      <td>2.3</td>\n",
       "      <td>149.5</td>\n",
       "      <td>103.0</td>\n",
       "      <td>68.4</td>\n",
       "      <td>177.575</td>\n",
       "      <td>2.971</td>\n",
       "      <td>15.8</td>\n",
       "      <td>21.0</td>\n",
       "      <td>60.407707</td>\n",
       "    </tr>\n",
       "    <tr>\n",
       "      <th>p50</th>\n",
       "      <td>29.45</td>\n",
       "      <td>14.18</td>\n",
       "      <td>22.799</td>\n",
       "      <td>3.0</td>\n",
       "      <td>177.5</td>\n",
       "      <td>107.0</td>\n",
       "      <td>70.55</td>\n",
       "      <td>187.9</td>\n",
       "      <td>3.342</td>\n",
       "      <td>17.2</td>\n",
       "      <td>24.0</td>\n",
       "      <td>72.030917</td>\n",
       "    </tr>\n",
       "    <tr>\n",
       "      <th>p75</th>\n",
       "      <td>67.956</td>\n",
       "      <td>19.875</td>\n",
       "      <td>31.9475</td>\n",
       "      <td>3.575</td>\n",
       "      <td>215.0</td>\n",
       "      <td>112.2</td>\n",
       "      <td>73.425</td>\n",
       "      <td>196.125</td>\n",
       "      <td>3.7995</td>\n",
       "      <td>19.575</td>\n",
       "      <td>26.0</td>\n",
       "      <td>89.414878</td>\n",
       "    </tr>\n",
       "    <tr>\n",
       "      <th>p90</th>\n",
       "      <td>127.6416</td>\n",
       "      <td>32.075</td>\n",
       "      <td>44.017</td>\n",
       "      <td>4.6</td>\n",
       "      <td>254.0</td>\n",
       "      <td>115.5</td>\n",
       "      <td>76.2</td>\n",
       "      <td>203.4</td>\n",
       "      <td>4.1186</td>\n",
       "      <td>23.2</td>\n",
       "      <td>28.7</td>\n",
       "      <td>108.499252</td>\n",
       "    </tr>\n",
       "    <tr>\n",
       "      <th>p95</th>\n",
       "      <td>185.3362</td>\n",
       "      <td>41.25</td>\n",
       "      <td>55.835</td>\n",
       "      <td>4.775</td>\n",
       "      <td>300.0</td>\n",
       "      <td>119.25</td>\n",
       "      <td>78.2</td>\n",
       "      <td>208.5</td>\n",
       "      <td>4.3891</td>\n",
       "      <td>25.4</td>\n",
       "      <td>31.0</td>\n",
       "      <td>125.091513</td>\n",
       "    </tr>\n",
       "    <tr>\n",
       "      <th>p99</th>\n",
       "      <td>253.560581</td>\n",
       "      <td>59.896</td>\n",
       "      <td>76.584508</td>\n",
       "      <td>5.7</td>\n",
       "      <td>317.0875</td>\n",
       "      <td>132.51875</td>\n",
       "      <td>79.1405</td>\n",
       "      <td>217.10225</td>\n",
       "      <td>5.394693</td>\n",
       "      <td>30.405</td>\n",
       "      <td>33.0</td>\n",
       "      <td>141.109484</td>\n",
       "    </tr>\n",
       "    <tr>\n",
       "      <th>max</th>\n",
       "      <td>260.64532</td>\n",
       "      <td>60.22</td>\n",
       "      <td>78.4798</td>\n",
       "      <td>5.7</td>\n",
       "      <td>325.75</td>\n",
       "      <td>134.375</td>\n",
       "      <td>79.19</td>\n",
       "      <td>219.305</td>\n",
       "      <td>5.39668</td>\n",
       "      <td>30.9</td>\n",
       "      <td>33.0</td>\n",
       "      <td>141.119461</td>\n",
       "    </tr>\n",
       "  </tbody>\n",
       "</table>\n",
       "</div>"
      ],
      "text/plain": [
       "            Sales_in_thousands four_year_resale_value Price_in_thousands  \\\n",
       "dtype                  float64                float64            float64   \n",
       "cardinality                155                    115                150   \n",
       "n_tot                      157                    157                157   \n",
       "n                          157                    121                155   \n",
       "nmiss                        0                     36                  2   \n",
       "perc_miss                  0.0              22.929936           1.273885   \n",
       "sum                  8025.5292               2180.421         4235.95548   \n",
       "mean                  51.11802              18.020008          27.328745   \n",
       "std                  57.722699              11.181335           14.06397   \n",
       "var                3331.909938              125.02226         197.795238   \n",
       "lc_iqr                 -66.649                -1.6625            -2.8775   \n",
       "uc_iqr                 148.719                32.7975            52.8425   \n",
       "min                    0.93728                  6.173           10.23144   \n",
       "p1                    0.946643                 6.4234          10.476362   \n",
       "p5                      1.8708                   7.85             12.469   \n",
       "p10                     5.4536                  9.125            13.9708   \n",
       "p25                     14.114                  11.26            18.0175   \n",
       "p50                      29.45                  14.18             22.799   \n",
       "p75                     67.956                 19.875            31.9475   \n",
       "p90                   127.6416                 32.075             44.017   \n",
       "p95                   185.3362                  41.25             55.835   \n",
       "p99                 253.560581                 59.896          76.584508   \n",
       "max                  260.64532                  60.22            78.4798   \n",
       "\n",
       "            Engine_size   Horsepower   Wheelbase      Width      Length  \\\n",
       "dtype           float64      float64     float64    float64     float64   \n",
       "cardinality          29           64          87         76         125   \n",
       "n_tot               157          157         157        157         157   \n",
       "n                   156          156         156        156         156   \n",
       "nmiss                 1            1           1          1           1   \n",
       "perc_miss      0.636943     0.636943    0.636943   0.636943    0.636943   \n",
       "sum              475.81      28910.3     16760.1   11102.45    29223.94   \n",
       "mean           3.050064   185.322436  107.436538  71.169551  187.332949   \n",
       "std            0.982279     52.81647    7.424295   3.390339    13.12035   \n",
       "var            0.964871  2789.579526   55.120156    11.4944  172.143594   \n",
       "lc_iqr           0.3875        51.25        89.2    60.8625      149.75   \n",
       "uc_iqr           5.4875       313.25       126.0    80.9625      223.95   \n",
       "min               1.555         96.4      92.875     66.085     154.915   \n",
       "p1              1.57975        98.38    92.99875   66.25825   156.22675   \n",
       "p5                  1.8        114.5      95.875       66.5     163.675   \n",
       "p10                1.95        120.0       98.65       66.9       173.0   \n",
       "p25                 2.3        149.5       103.0       68.4     177.575   \n",
       "p50                 3.0        177.5       107.0      70.55       187.9   \n",
       "p75               3.575        215.0       112.2     73.425     196.125   \n",
       "p90                 4.6        254.0       115.5       76.2       203.4   \n",
       "p95               4.775        300.0      119.25       78.2       208.5   \n",
       "p99                 5.7     317.0875   132.51875    79.1405   217.10225   \n",
       "max                 5.7       325.75     134.375      79.19     219.305   \n",
       "\n",
       "            Curb_weight Fuel_capacity Fuel_efficiency Power_perf_factor  \n",
       "dtype           float64       float64         float64           float64  \n",
       "cardinality         145            54              19               152  \n",
       "n_tot               157           157             157               157  \n",
       "n                   155           156             154               155  \n",
       "nmiss                 2             1               3                 2  \n",
       "perc_miss      1.273885      0.636943        1.910828          1.273885  \n",
       "sum           523.77016        2799.9          3660.0      11911.685368  \n",
       "mean           3.379162     17.948077       23.766234         76.849583  \n",
       "std            0.621764      3.819854        3.994755         23.844968  \n",
       "var            0.386591     14.591287       15.958068         568.58248  \n",
       "lc_iqr          1.72825       10.1375            13.5         16.896951  \n",
       "uc_iqr          5.04225       25.2375            33.5        132.925634  \n",
       "min              2.2454          11.9            15.0          38.46192  \n",
       "p1             2.247884          11.9            15.0         39.285152  \n",
       "p5               2.4235          12.5           16.65         46.203997  \n",
       "p10              2.6062          13.2            18.3         48.447741  \n",
       "p25               2.971          15.8            21.0         60.407707  \n",
       "p50               3.342          17.2            24.0         72.030917  \n",
       "p75              3.7995        19.575            26.0         89.414878  \n",
       "p90              4.1186          23.2            28.7        108.499252  \n",
       "p95              4.3891          25.4            31.0        125.091513  \n",
       "p99            5.394693        30.405            33.0        141.109484  \n",
       "max             5.39668          30.9            33.0        141.119461  "
      ]
     },
     "execution_count": 73,
     "metadata": {},
     "output_type": "execute_result"
    }
   ],
   "source": [
    "car_cont.apply(continuous_var_summary)"
   ]
  },
  {
   "cell_type": "markdown",
   "id": "d93d0ebf",
   "metadata": {},
   "source": [
    "### Missing Value Treatment"
   ]
  },
  {
   "cell_type": "code",
   "execution_count": 74,
   "id": "026148ff",
   "metadata": {},
   "outputs": [],
   "source": [
    "car_cont = car_cont.apply(missing_imputation)"
   ]
  },
  {
   "cell_type": "code",
   "execution_count": 75,
   "id": "1589e9e6",
   "metadata": {},
   "outputs": [
    {
     "data": {
      "text/html": [
       "<div>\n",
       "<style scoped>\n",
       "    .dataframe tbody tr th:only-of-type {\n",
       "        vertical-align: middle;\n",
       "    }\n",
       "\n",
       "    .dataframe tbody tr th {\n",
       "        vertical-align: top;\n",
       "    }\n",
       "\n",
       "    .dataframe thead th {\n",
       "        text-align: right;\n",
       "    }\n",
       "</style>\n",
       "<table border=\"1\" class=\"dataframe\">\n",
       "  <thead>\n",
       "    <tr style=\"text-align: right;\">\n",
       "      <th></th>\n",
       "      <th>Sales_in_thousands</th>\n",
       "      <th>four_year_resale_value</th>\n",
       "      <th>Price_in_thousands</th>\n",
       "      <th>Engine_size</th>\n",
       "      <th>Horsepower</th>\n",
       "      <th>Wheelbase</th>\n",
       "      <th>Width</th>\n",
       "      <th>Length</th>\n",
       "      <th>Curb_weight</th>\n",
       "      <th>Fuel_capacity</th>\n",
       "      <th>Fuel_efficiency</th>\n",
       "      <th>Power_perf_factor</th>\n",
       "    </tr>\n",
       "  </thead>\n",
       "  <tbody>\n",
       "    <tr>\n",
       "      <th>dtype</th>\n",
       "      <td>float64</td>\n",
       "      <td>float64</td>\n",
       "      <td>float64</td>\n",
       "      <td>float64</td>\n",
       "      <td>float64</td>\n",
       "      <td>float64</td>\n",
       "      <td>float64</td>\n",
       "      <td>float64</td>\n",
       "      <td>float64</td>\n",
       "      <td>float64</td>\n",
       "      <td>float64</td>\n",
       "      <td>float64</td>\n",
       "    </tr>\n",
       "    <tr>\n",
       "      <th>cardinality</th>\n",
       "      <td>155</td>\n",
       "      <td>116</td>\n",
       "      <td>151</td>\n",
       "      <td>30</td>\n",
       "      <td>65</td>\n",
       "      <td>88</td>\n",
       "      <td>77</td>\n",
       "      <td>126</td>\n",
       "      <td>146</td>\n",
       "      <td>55</td>\n",
       "      <td>20</td>\n",
       "      <td>153</td>\n",
       "    </tr>\n",
       "    <tr>\n",
       "      <th>n_tot</th>\n",
       "      <td>157</td>\n",
       "      <td>157</td>\n",
       "      <td>157</td>\n",
       "      <td>157</td>\n",
       "      <td>157</td>\n",
       "      <td>157</td>\n",
       "      <td>157</td>\n",
       "      <td>157</td>\n",
       "      <td>157</td>\n",
       "      <td>157</td>\n",
       "      <td>157</td>\n",
       "      <td>157</td>\n",
       "    </tr>\n",
       "    <tr>\n",
       "      <th>n</th>\n",
       "      <td>157</td>\n",
       "      <td>157</td>\n",
       "      <td>157</td>\n",
       "      <td>157</td>\n",
       "      <td>157</td>\n",
       "      <td>157</td>\n",
       "      <td>157</td>\n",
       "      <td>157</td>\n",
       "      <td>157</td>\n",
       "      <td>157</td>\n",
       "      <td>157</td>\n",
       "      <td>157</td>\n",
       "    </tr>\n",
       "    <tr>\n",
       "      <th>nmiss</th>\n",
       "      <td>0</td>\n",
       "      <td>0</td>\n",
       "      <td>0</td>\n",
       "      <td>0</td>\n",
       "      <td>0</td>\n",
       "      <td>0</td>\n",
       "      <td>0</td>\n",
       "      <td>0</td>\n",
       "      <td>0</td>\n",
       "      <td>0</td>\n",
       "      <td>0</td>\n",
       "      <td>0</td>\n",
       "    </tr>\n",
       "    <tr>\n",
       "      <th>perc_miss</th>\n",
       "      <td>0.0</td>\n",
       "      <td>0.0</td>\n",
       "      <td>0.0</td>\n",
       "      <td>0.0</td>\n",
       "      <td>0.0</td>\n",
       "      <td>0.0</td>\n",
       "      <td>0.0</td>\n",
       "      <td>0.0</td>\n",
       "      <td>0.0</td>\n",
       "      <td>0.0</td>\n",
       "      <td>0.0</td>\n",
       "      <td>0.0</td>\n",
       "    </tr>\n",
       "    <tr>\n",
       "      <th>sum</th>\n",
       "      <td>8025.5292</td>\n",
       "      <td>2829.141298</td>\n",
       "      <td>4290.61297</td>\n",
       "      <td>478.860064</td>\n",
       "      <td>29095.622436</td>\n",
       "      <td>16867.536538</td>\n",
       "      <td>11173.619551</td>\n",
       "      <td>29411.272949</td>\n",
       "      <td>530.528485</td>\n",
       "      <td>2817.848077</td>\n",
       "      <td>3731.298701</td>\n",
       "      <td>12065.384534</td>\n",
       "    </tr>\n",
       "    <tr>\n",
       "      <th>mean</th>\n",
       "      <td>51.11802</td>\n",
       "      <td>18.020008</td>\n",
       "      <td>27.328745</td>\n",
       "      <td>3.050064</td>\n",
       "      <td>185.322436</td>\n",
       "      <td>107.436538</td>\n",
       "      <td>71.169551</td>\n",
       "      <td>187.332949</td>\n",
       "      <td>3.379162</td>\n",
       "      <td>17.948077</td>\n",
       "      <td>23.766234</td>\n",
       "      <td>76.849583</td>\n",
       "    </tr>\n",
       "    <tr>\n",
       "      <th>std</th>\n",
       "      <td>57.722699</td>\n",
       "      <td>9.80668</td>\n",
       "      <td>13.973525</td>\n",
       "      <td>0.979125</td>\n",
       "      <td>52.646914</td>\n",
       "      <td>7.400461</td>\n",
       "      <td>3.379455</td>\n",
       "      <td>13.07823</td>\n",
       "      <td>0.617766</td>\n",
       "      <td>3.807591</td>\n",
       "      <td>3.956157</td>\n",
       "      <td>23.691622</td>\n",
       "    </tr>\n",
       "    <tr>\n",
       "      <th>var</th>\n",
       "      <td>3331.909938</td>\n",
       "      <td>96.170969</td>\n",
       "      <td>195.259402</td>\n",
       "      <td>0.958686</td>\n",
       "      <td>2771.697606</td>\n",
       "      <td>54.766822</td>\n",
       "      <td>11.420718</td>\n",
       "      <td>171.04011</td>\n",
       "      <td>0.381634</td>\n",
       "      <td>14.497753</td>\n",
       "      <td>15.651182</td>\n",
       "      <td>561.292961</td>\n",
       "    </tr>\n",
       "    <tr>\n",
       "      <th>lc_iqr</th>\n",
       "      <td>-66.649</td>\n",
       "      <td>4.1525</td>\n",
       "      <td>-2.5325</td>\n",
       "      <td>0.5</td>\n",
       "      <td>52.5</td>\n",
       "      <td>89.2</td>\n",
       "      <td>60.9</td>\n",
       "      <td>149.85</td>\n",
       "      <td>1.7705</td>\n",
       "      <td>10.25</td>\n",
       "      <td>13.5</td>\n",
       "      <td>17.715715</td>\n",
       "    </tr>\n",
       "    <tr>\n",
       "      <th>uc_iqr</th>\n",
       "      <td>148.719</td>\n",
       "      <td>26.5325</td>\n",
       "      <td>52.6075</td>\n",
       "      <td>5.3</td>\n",
       "      <td>312.5</td>\n",
       "      <td>126.0</td>\n",
       "      <td>80.9</td>\n",
       "      <td>223.85</td>\n",
       "      <td>4.9825</td>\n",
       "      <td>25.05</td>\n",
       "      <td>33.5</td>\n",
       "      <td>132.413666</td>\n",
       "    </tr>\n",
       "    <tr>\n",
       "      <th>min</th>\n",
       "      <td>0.93728</td>\n",
       "      <td>6.173</td>\n",
       "      <td>10.23144</td>\n",
       "      <td>1.555</td>\n",
       "      <td>96.4</td>\n",
       "      <td>92.875</td>\n",
       "      <td>66.085</td>\n",
       "      <td>154.915</td>\n",
       "      <td>2.2454</td>\n",
       "      <td>11.9</td>\n",
       "      <td>15.0</td>\n",
       "      <td>38.46192</td>\n",
       "    </tr>\n",
       "    <tr>\n",
       "      <th>p1</th>\n",
       "      <td>0.946643</td>\n",
       "      <td>6.87412</td>\n",
       "      <td>10.485434</td>\n",
       "      <td>1.5802</td>\n",
       "      <td>98.416</td>\n",
       "      <td>93.001</td>\n",
       "      <td>66.2614</td>\n",
       "      <td>156.2506</td>\n",
       "      <td>2.247976</td>\n",
       "      <td>11.9</td>\n",
       "      <td>15.0</td>\n",
       "      <td>39.315643</td>\n",
       "    </tr>\n",
       "    <tr>\n",
       "      <th>p5</th>\n",
       "      <td>1.8708</td>\n",
       "      <td>8.425</td>\n",
       "      <td>12.491</td>\n",
       "      <td>1.8</td>\n",
       "      <td>114.6</td>\n",
       "      <td>95.92</td>\n",
       "      <td>66.5</td>\n",
       "      <td>163.7</td>\n",
       "      <td>2.424</td>\n",
       "      <td>12.5</td>\n",
       "      <td>16.8</td>\n",
       "      <td>46.257114</td>\n",
       "    </tr>\n",
       "    <tr>\n",
       "      <th>p10</th>\n",
       "      <td>5.4536</td>\n",
       "      <td>9.71</td>\n",
       "      <td>13.9762</td>\n",
       "      <td>1.96</td>\n",
       "      <td>120.0</td>\n",
       "      <td>98.7</td>\n",
       "      <td>66.9</td>\n",
       "      <td>173.12</td>\n",
       "      <td>2.6128</td>\n",
       "      <td>13.2</td>\n",
       "      <td>18.6</td>\n",
       "      <td>48.522793</td>\n",
       "    </tr>\n",
       "    <tr>\n",
       "      <th>p25</th>\n",
       "      <td>14.114</td>\n",
       "      <td>12.545</td>\n",
       "      <td>18.145</td>\n",
       "      <td>2.3</td>\n",
       "      <td>150.0</td>\n",
       "      <td>103.0</td>\n",
       "      <td>68.4</td>\n",
       "      <td>177.6</td>\n",
       "      <td>2.975</td>\n",
       "      <td>15.8</td>\n",
       "      <td>21.0</td>\n",
       "      <td>60.727447</td>\n",
       "    </tr>\n",
       "    <tr>\n",
       "      <th>p50</th>\n",
       "      <td>29.45</td>\n",
       "      <td>17.71</td>\n",
       "      <td>23.4</td>\n",
       "      <td>3.0</td>\n",
       "      <td>180.0</td>\n",
       "      <td>107.0</td>\n",
       "      <td>70.6</td>\n",
       "      <td>187.8</td>\n",
       "      <td>3.368</td>\n",
       "      <td>17.2</td>\n",
       "      <td>24.0</td>\n",
       "      <td>72.290355</td>\n",
       "    </tr>\n",
       "    <tr>\n",
       "      <th>p75</th>\n",
       "      <td>67.956</td>\n",
       "      <td>18.14</td>\n",
       "      <td>31.93</td>\n",
       "      <td>3.5</td>\n",
       "      <td>215.0</td>\n",
       "      <td>112.2</td>\n",
       "      <td>73.4</td>\n",
       "      <td>196.1</td>\n",
       "      <td>3.778</td>\n",
       "      <td>19.5</td>\n",
       "      <td>26.0</td>\n",
       "      <td>89.401935</td>\n",
       "    </tr>\n",
       "    <tr>\n",
       "      <th>p90</th>\n",
       "      <td>127.6416</td>\n",
       "      <td>27.025</td>\n",
       "      <td>43.788</td>\n",
       "      <td>4.6</td>\n",
       "      <td>253.8</td>\n",
       "      <td>115.46</td>\n",
       "      <td>76.18</td>\n",
       "      <td>203.34</td>\n",
       "      <td>4.1174</td>\n",
       "      <td>23.2</td>\n",
       "      <td>28.4</td>\n",
       "      <td>107.99432</td>\n",
       "    </tr>\n",
       "    <tr>\n",
       "      <th>p95</th>\n",
       "      <td>185.3362</td>\n",
       "      <td>39.275</td>\n",
       "      <td>55.225</td>\n",
       "      <td>4.76</td>\n",
       "      <td>300.0</td>\n",
       "      <td>119.2</td>\n",
       "      <td>78.2</td>\n",
       "      <td>208.5</td>\n",
       "      <td>4.3884</td>\n",
       "      <td>25.4</td>\n",
       "      <td>31.0</td>\n",
       "      <td>125.065461</td>\n",
       "    </tr>\n",
       "    <tr>\n",
       "      <th>p99</th>\n",
       "      <td>253.560581</td>\n",
       "      <td>59.3128</td>\n",
       "      <td>76.514312</td>\n",
       "      <td>5.7</td>\n",
       "      <td>316.93</td>\n",
       "      <td>132.485</td>\n",
       "      <td>79.1396</td>\n",
       "      <td>217.0622</td>\n",
       "      <td>5.394619</td>\n",
       "      <td>30.396</td>\n",
       "      <td>33.0</td>\n",
       "      <td>141.109114</td>\n",
       "    </tr>\n",
       "    <tr>\n",
       "      <th>max</th>\n",
       "      <td>260.64532</td>\n",
       "      <td>60.22</td>\n",
       "      <td>78.4798</td>\n",
       "      <td>5.7</td>\n",
       "      <td>325.75</td>\n",
       "      <td>134.375</td>\n",
       "      <td>79.19</td>\n",
       "      <td>219.305</td>\n",
       "      <td>5.39668</td>\n",
       "      <td>30.9</td>\n",
       "      <td>33.0</td>\n",
       "      <td>141.119461</td>\n",
       "    </tr>\n",
       "  </tbody>\n",
       "</table>\n",
       "</div>"
      ],
      "text/plain": [
       "            Sales_in_thousands four_year_resale_value Price_in_thousands  \\\n",
       "dtype                  float64                float64            float64   \n",
       "cardinality                155                    116                151   \n",
       "n_tot                      157                    157                157   \n",
       "n                          157                    157                157   \n",
       "nmiss                        0                      0                  0   \n",
       "perc_miss                  0.0                    0.0                0.0   \n",
       "sum                  8025.5292            2829.141298         4290.61297   \n",
       "mean                  51.11802              18.020008          27.328745   \n",
       "std                  57.722699                9.80668          13.973525   \n",
       "var                3331.909938              96.170969         195.259402   \n",
       "lc_iqr                 -66.649                 4.1525            -2.5325   \n",
       "uc_iqr                 148.719                26.5325            52.6075   \n",
       "min                    0.93728                  6.173           10.23144   \n",
       "p1                    0.946643                6.87412          10.485434   \n",
       "p5                      1.8708                  8.425             12.491   \n",
       "p10                     5.4536                   9.71            13.9762   \n",
       "p25                     14.114                 12.545             18.145   \n",
       "p50                      29.45                  17.71               23.4   \n",
       "p75                     67.956                  18.14              31.93   \n",
       "p90                   127.6416                 27.025             43.788   \n",
       "p95                   185.3362                 39.275             55.225   \n",
       "p99                 253.560581                59.3128          76.514312   \n",
       "max                  260.64532                  60.22            78.4798   \n",
       "\n",
       "            Engine_size    Horsepower     Wheelbase         Width  \\\n",
       "dtype           float64       float64       float64       float64   \n",
       "cardinality          30            65            88            77   \n",
       "n_tot               157           157           157           157   \n",
       "n                   157           157           157           157   \n",
       "nmiss                 0             0             0             0   \n",
       "perc_miss           0.0           0.0           0.0           0.0   \n",
       "sum          478.860064  29095.622436  16867.536538  11173.619551   \n",
       "mean           3.050064    185.322436    107.436538     71.169551   \n",
       "std            0.979125     52.646914      7.400461      3.379455   \n",
       "var            0.958686   2771.697606     54.766822     11.420718   \n",
       "lc_iqr              0.5          52.5          89.2          60.9   \n",
       "uc_iqr              5.3         312.5         126.0          80.9   \n",
       "min               1.555          96.4        92.875        66.085   \n",
       "p1               1.5802        98.416        93.001       66.2614   \n",
       "p5                  1.8         114.6         95.92          66.5   \n",
       "p10                1.96         120.0          98.7          66.9   \n",
       "p25                 2.3         150.0         103.0          68.4   \n",
       "p50                 3.0         180.0         107.0          70.6   \n",
       "p75                 3.5         215.0         112.2          73.4   \n",
       "p90                 4.6         253.8        115.46         76.18   \n",
       "p95                4.76         300.0         119.2          78.2   \n",
       "p99                 5.7        316.93       132.485       79.1396   \n",
       "max                 5.7        325.75       134.375         79.19   \n",
       "\n",
       "                   Length Curb_weight Fuel_capacity Fuel_efficiency  \\\n",
       "dtype             float64     float64       float64         float64   \n",
       "cardinality           126         146            55              20   \n",
       "n_tot                 157         157           157             157   \n",
       "n                     157         157           157             157   \n",
       "nmiss                   0           0             0               0   \n",
       "perc_miss             0.0         0.0           0.0             0.0   \n",
       "sum          29411.272949  530.528485   2817.848077     3731.298701   \n",
       "mean           187.332949    3.379162     17.948077       23.766234   \n",
       "std              13.07823    0.617766      3.807591        3.956157   \n",
       "var             171.04011    0.381634     14.497753       15.651182   \n",
       "lc_iqr             149.85      1.7705         10.25            13.5   \n",
       "uc_iqr             223.85      4.9825         25.05            33.5   \n",
       "min               154.915      2.2454          11.9            15.0   \n",
       "p1               156.2506    2.247976          11.9            15.0   \n",
       "p5                  163.7       2.424          12.5            16.8   \n",
       "p10                173.12      2.6128          13.2            18.6   \n",
       "p25                 177.6       2.975          15.8            21.0   \n",
       "p50                 187.8       3.368          17.2            24.0   \n",
       "p75                 196.1       3.778          19.5            26.0   \n",
       "p90                203.34      4.1174          23.2            28.4   \n",
       "p95                 208.5      4.3884          25.4            31.0   \n",
       "p99              217.0622    5.394619        30.396            33.0   \n",
       "max               219.305     5.39668          30.9            33.0   \n",
       "\n",
       "            Power_perf_factor  \n",
       "dtype                 float64  \n",
       "cardinality               153  \n",
       "n_tot                     157  \n",
       "n                         157  \n",
       "nmiss                       0  \n",
       "perc_miss                 0.0  \n",
       "sum              12065.384534  \n",
       "mean                76.849583  \n",
       "std                 23.691622  \n",
       "var                561.292961  \n",
       "lc_iqr              17.715715  \n",
       "uc_iqr             132.413666  \n",
       "min                  38.46192  \n",
       "p1                  39.315643  \n",
       "p5                  46.257114  \n",
       "p10                 48.522793  \n",
       "p25                 60.727447  \n",
       "p50                 72.290355  \n",
       "p75                 89.401935  \n",
       "p90                 107.99432  \n",
       "p95                125.065461  \n",
       "p99                141.109114  \n",
       "max                141.119461  "
      ]
     },
     "execution_count": 75,
     "metadata": {},
     "output_type": "execute_result"
    }
   ],
   "source": [
    "car_cont.apply(continuous_var_summary)"
   ]
  },
  {
   "cell_type": "markdown",
   "id": "d71a4cf7",
   "metadata": {},
   "source": [
    "### Dummy Variable Creation"
   ]
  },
  {
   "cell_type": "code",
   "execution_count": 76,
   "id": "5ae40526",
   "metadata": {},
   "outputs": [],
   "source": [
    "car_cat = car_cat.loc[:,['Manufacturer','Vehicle_type']]"
   ]
  },
  {
   "cell_type": "code",
   "execution_count": 77,
   "id": "8ed677d6",
   "metadata": {},
   "outputs": [],
   "source": [
    "for car_feat in car_cat:\n",
    "    car_cat.loc[:,car_feat] = car_cat[car_feat].astype('category')\n",
    "    car_cat = create_dummies(car_cat,car_feat)"
   ]
  },
  {
   "cell_type": "code",
   "execution_count": 78,
   "id": "5ad61a35",
   "metadata": {},
   "outputs": [
    {
     "data": {
      "text/plain": [
       "Index(['Manufacturer_Audi', 'Manufacturer_BMW', 'Manufacturer_Buick',\n",
       "       'Manufacturer_Cadillac', 'Manufacturer_Chevrolet',\n",
       "       'Manufacturer_Chrysler', 'Manufacturer_Dodge', 'Manufacturer_Ford',\n",
       "       'Manufacturer_Honda', 'Manufacturer_Hyundai', 'Manufacturer_Infiniti',\n",
       "       'Manufacturer_Jaguar', 'Manufacturer_Jeep', 'Manufacturer_Lexus',\n",
       "       'Manufacturer_Lincoln', 'Manufacturer_Mercedes-B',\n",
       "       'Manufacturer_Mercury', 'Manufacturer_Mitsubishi',\n",
       "       'Manufacturer_Nissan', 'Manufacturer_Oldsmobile',\n",
       "       'Manufacturer_Plymouth', 'Manufacturer_Pontiac', 'Manufacturer_Porsche',\n",
       "       'Manufacturer_Saab', 'Manufacturer_Saturn', 'Manufacturer_Subaru',\n",
       "       'Manufacturer_Toyota', 'Manufacturer_Volkswagen', 'Manufacturer_Volvo',\n",
       "       'Vehicle_type_Passenger'],\n",
       "      dtype='object')"
      ]
     },
     "execution_count": 78,
     "metadata": {},
     "output_type": "execute_result"
    }
   ],
   "source": [
    "car_cat.columns"
   ]
  },
  {
   "cell_type": "code",
   "execution_count": 79,
   "id": "3c48a31a",
   "metadata": {},
   "outputs": [],
   "source": [
    "#Colnames as per INC rules\n",
    "car_cat.rename(columns= {'Manufacturer_Mercedes-B':'Manufacturer_Mercedes_B'},inplace=True)"
   ]
  },
  {
   "cell_type": "markdown",
   "id": "f1478021",
   "metadata": {},
   "source": [
    "### Final Dataset"
   ]
  },
  {
   "cell_type": "code",
   "execution_count": 80,
   "id": "ea67d4e9",
   "metadata": {},
   "outputs": [],
   "source": [
    "car_final = pd.concat([car_cont,car_cat],axis = 1)"
   ]
  },
  {
   "cell_type": "markdown",
   "id": "9d6a9b6c",
   "metadata": {},
   "source": [
    "### Assumption check"
   ]
  },
  {
   "cell_type": "code",
   "execution_count": 81,
   "id": "93f7aa69",
   "metadata": {},
   "outputs": [
    {
     "name": "stderr",
     "output_type": "stream",
     "text": [
      "C:\\Users\\Nithin\\anaconda3\\lib\\site-packages\\seaborn\\distributions.py:2619: FutureWarning: `distplot` is a deprecated function and will be removed in a future version. Please adapt your code to use either `displot` (a figure-level function with similar flexibility) or `histplot` (an axes-level function for histograms).\n",
      "  warnings.warn(msg, FutureWarning)\n"
     ]
    },
    {
     "data": {
      "text/plain": [
       "<AxesSubplot:xlabel='Sales_in_thousands', ylabel='Density'>"
      ]
     },
     "execution_count": 81,
     "metadata": {},
     "output_type": "execute_result"
    },
    {
     "data": {
      "image/png": "[encoded data removed]",
      "text/plain": [
       "<Figure size 432x288 with 1 Axes>"
      ]
     },
     "metadata": {
      "needs_background": "light"
     },
     "output_type": "display_data"
    }
   ],
   "source": [
    "#Checking if y variabvle is normally distrubued\n",
    "\n",
    "sns.distplot(car_final.Sales_in_thousands)"
   ]
  },
  {
   "cell_type": "code",
   "execution_count": 82,
   "id": "5dd1d61d",
   "metadata": {},
   "outputs": [
    {
     "data": {
      "text/plain": [
       "1.99"
      ]
     },
     "execution_count": 82,
     "metadata": {},
     "output_type": "execute_result"
    }
   ],
   "source": [
    "car_final.Sales_in_thousands.skew().round(2)"
   ]
  },
  {
   "cell_type": "code",
   "execution_count": 83,
   "id": "cf820e5e",
   "metadata": {},
   "outputs": [],
   "source": [
    "#To Normalise y we are creating a new log column\n",
    "\n",
    "car_final['ln_sales'] = np.log(car_final.Sales_in_thousands)"
   ]
  },
  {
   "cell_type": "code",
   "execution_count": 84,
   "id": "c9a50757",
   "metadata": {},
   "outputs": [
    {
     "name": "stderr",
     "output_type": "stream",
     "text": [
      "C:\\Users\\Nithin\\anaconda3\\lib\\site-packages\\seaborn\\distributions.py:2619: FutureWarning: `distplot` is a deprecated function and will be removed in a future version. Please adapt your code to use either `displot` (a figure-level function with similar flexibility) or `histplot` (an axes-level function for histograms).\n",
      "  warnings.warn(msg, FutureWarning)\n"
     ]
    },
    {
     "data": {
      "text/plain": [
       "<AxesSubplot:xlabel='ln_sales', ylabel='Density'>"
      ]
     },
     "execution_count": 84,
     "metadata": {},
     "output_type": "execute_result"
    },
    {
     "data": {
      "image/png": "[encoded data removed]",
      "text/plain": [
       "<Figure size 432x288 with 1 Axes>"
      ]
     },
     "metadata": {
      "needs_background": "light"
     },
     "output_type": "display_data"
    }
   ],
   "source": [
    "sns.distplot(car_final.ln_sales)"
   ]
  },
  {
   "cell_type": "code",
   "execution_count": 85,
   "id": "0ba88784",
   "metadata": {},
   "outputs": [
    {
     "data": {
      "text/plain": [
       "-0.59"
      ]
     },
     "execution_count": 85,
     "metadata": {},
     "output_type": "execute_result"
    }
   ],
   "source": [
    "car_final.ln_sales.skew().round(2)"
   ]
  },
  {
   "cell_type": "markdown",
   "id": "483c552e",
   "metadata": {},
   "source": [
    "### Corelation Matrix"
   ]
  },
  {
   "cell_type": "code",
   "execution_count": 86,
   "id": "f60c9932",
   "metadata": {},
   "outputs": [],
   "source": [
    "car_final.corr().to_csv('C:/Users/Nithin/Downloads/Car Sales/corel.csv')"
   ]
  },
  {
   "cell_type": "code",
   "execution_count": 87,
   "id": "e35a59f4",
   "metadata": {},
   "outputs": [
    {
     "data": {
      "text/plain": [
       "<AxesSubplot:>"
      ]
     },
     "execution_count": 87,
     "metadata": {},
     "output_type": "execute_result"
    },
    {
     "data": {
      "image/png": "[encoded data removed]",
      "text/plain": [
       "<Figure size 1080x576 with 2 Axes>"
      ]
     },
     "metadata": {
      "needs_background": "light"
     },
     "output_type": "display_data"
    }
   ],
   "source": [
    "plt.figure(figsize= (15,8))\n",
    "sns.heatmap(car_final.corr())"
   ]
  },
  {
   "cell_type": "markdown",
   "id": "596169c5",
   "metadata": {},
   "source": [
    "### Feature Reduction"
   ]
  },
  {
   "cell_type": "code",
   "execution_count": 88,
   "id": "fc947b28",
   "metadata": {},
   "outputs": [],
   "source": [
    "#f_regression -> Significant Features\n",
    "feat_cols = car_final.columns.difference(['Sales_in_thousands','ln_sales'])"
   ]
  },
  {
   "cell_type": "code",
   "execution_count": 89,
   "id": "f31d0521",
   "metadata": {},
   "outputs": [],
   "source": [
    "predictors = car_final[feat_cols]\n",
    "target = car_final.ln_sales"
   ]
  },
  {
   "cell_type": "code",
   "execution_count": 90,
   "id": "ad3550aa",
   "metadata": {},
   "outputs": [],
   "source": [
    "f_values,p_values = f_regression(predictors,target)"
   ]
  },
  {
   "cell_type": "code",
   "execution_count": 91,
   "id": "a45f55ae",
   "metadata": {},
   "outputs": [],
   "source": [
    "f_reg_out = pd.concat( [ pd.Series(feat_cols), \n",
    "                    pd.Series(f_values).round(2), \n",
    "                        pd.Series(p_values).round(4) ], axis = 1 )"
   ]
  },
  {
   "cell_type": "code",
   "execution_count": 92,
   "id": "339e5cde",
   "metadata": {},
   "outputs": [],
   "source": [
    "f_reg_out.columns = ['Features','f_values','p_values']"
   ]
  },
  {
   "cell_type": "code",
   "execution_count": 93,
   "id": "d29d4665",
   "metadata": {},
   "outputs": [],
   "source": [
    "feat_sig = f_reg_out.loc[f_reg_out.p_values < 0.1,'Features']"
   ]
  },
  {
   "cell_type": "code",
   "execution_count": 94,
   "id": "718ca2d0",
   "metadata": {},
   "outputs": [],
   "source": [
    "#VIF(Variance Inflation Factor) -> to reduce multi colinearity among significant features\n",
    "#Vif <= 4\n",
    "model_param = 'ln_sales ~ '+' + '.join(feat_sig)"
   ]
  },
  {
   "cell_type": "code",
   "execution_count": 95,
   "id": "b5bf8d54",
   "metadata": {},
   "outputs": [
    {
     "data": {
      "text/plain": [
       "'ln_sales ~ Fuel_efficiency + Horsepower + Length + Manufacturer_Audi + Manufacturer_Ford + Manufacturer_Honda + Manufacturer_Mercedes_B + Manufacturer_Plymouth + Manufacturer_Porsche + Manufacturer_Toyota + Manufacturer_Volvo + Power_perf_factor + Price_in_thousands + Vehicle_type_Passenger + Wheelbase + four_year_resale_value'"
      ]
     },
     "execution_count": 95,
     "metadata": {},
     "output_type": "execute_result"
    }
   ],
   "source": [
    "model_param"
   ]
  },
  {
   "cell_type": "raw",
   "id": "a5810cf6",
   "metadata": {},
   "source": [
    "#Features Reduced\n",
    "1.Power_perf_factor\n",
    "2.four_year_resale_value\n",
    "3.Wheelbase\n",
    "4.Horsepower"
   ]
  },
  {
   "cell_type": "code",
   "execution_count": 96,
   "id": "8fb4c5f1",
   "metadata": {},
   "outputs": [],
   "source": [
    "model_param = '''ln_sales ~ Fuel_efficiency + Length + \n",
    "               Manufacturer_Audi + Manufacturer_Ford + Manufacturer_Honda +\n",
    "               Manufacturer_Mercedes_B + Manufacturer_Plymouth + Manufacturer_Porsche + \n",
    "               Manufacturer_Toyota + Manufacturer_Volvo + \n",
    "               Price_in_thousands + Vehicle_type_Passenger'''"
   ]
  },
  {
   "cell_type": "code",
   "execution_count": 97,
   "id": "c948793a",
   "metadata": {},
   "outputs": [],
   "source": [
    "y,x = dmatrices(model_param,car_final,return_type='dataframe')"
   ]
  },
  {
   "cell_type": "code",
   "execution_count": 98,
   "id": "3a30e308",
   "metadata": {},
   "outputs": [
    {
     "data": {
      "text/html": [
       "<div>\n",
       "<style scoped>\n",
       "    .dataframe tbody tr th:only-of-type {\n",
       "        vertical-align: middle;\n",
       "    }\n",
       "\n",
       "    .dataframe tbody tr th {\n",
       "        vertical-align: top;\n",
       "    }\n",
       "\n",
       "    .dataframe thead th {\n",
       "        text-align: right;\n",
       "    }\n",
       "</style>\n",
       "<table border=\"1\" class=\"dataframe\">\n",
       "  <thead>\n",
       "    <tr style=\"text-align: right;\">\n",
       "      <th></th>\n",
       "      <th>Features</th>\n",
       "      <th>vif_factor</th>\n",
       "    </tr>\n",
       "  </thead>\n",
       "  <tbody>\n",
       "    <tr>\n",
       "      <th>0</th>\n",
       "      <td>Intercept</td>\n",
       "      <td>568.59</td>\n",
       "    </tr>\n",
       "    <tr>\n",
       "      <th>1</th>\n",
       "      <td>Fuel_efficiency</td>\n",
       "      <td>4.02</td>\n",
       "    </tr>\n",
       "    <tr>\n",
       "      <th>2</th>\n",
       "      <td>Length</td>\n",
       "      <td>1.44</td>\n",
       "    </tr>\n",
       "    <tr>\n",
       "      <th>3</th>\n",
       "      <td>Manufacturer_Audi</td>\n",
       "      <td>1.06</td>\n",
       "    </tr>\n",
       "    <tr>\n",
       "      <th>4</th>\n",
       "      <td>Manufacturer_Ford</td>\n",
       "      <td>1.08</td>\n",
       "    </tr>\n",
       "    <tr>\n",
       "      <th>5</th>\n",
       "      <td>Manufacturer_Honda</td>\n",
       "      <td>1.09</td>\n",
       "    </tr>\n",
       "    <tr>\n",
       "      <th>6</th>\n",
       "      <td>Manufacturer_Mercedes_B</td>\n",
       "      <td>1.60</td>\n",
       "    </tr>\n",
       "    <tr>\n",
       "      <th>7</th>\n",
       "      <td>Manufacturer_Plymouth</td>\n",
       "      <td>1.03</td>\n",
       "    </tr>\n",
       "    <tr>\n",
       "      <th>8</th>\n",
       "      <td>Manufacturer_Porsche</td>\n",
       "      <td>1.38</td>\n",
       "    </tr>\n",
       "    <tr>\n",
       "      <th>9</th>\n",
       "      <td>Manufacturer_Toyota</td>\n",
       "      <td>1.15</td>\n",
       "    </tr>\n",
       "    <tr>\n",
       "      <th>10</th>\n",
       "      <td>Manufacturer_Volvo</td>\n",
       "      <td>1.05</td>\n",
       "    </tr>\n",
       "    <tr>\n",
       "      <th>11</th>\n",
       "      <td>Price_in_thousands</td>\n",
       "      <td>3.18</td>\n",
       "    </tr>\n",
       "    <tr>\n",
       "      <th>12</th>\n",
       "      <td>Vehicle_type_Passenger</td>\n",
       "      <td>2.61</td>\n",
       "    </tr>\n",
       "  </tbody>\n",
       "</table>\n",
       "</div>"
      ],
      "text/plain": [
       "                   Features  vif_factor\n",
       "0                 Intercept      568.59\n",
       "1           Fuel_efficiency        4.02\n",
       "2                    Length        1.44\n",
       "3         Manufacturer_Audi        1.06\n",
       "4         Manufacturer_Ford        1.08\n",
       "5        Manufacturer_Honda        1.09\n",
       "6   Manufacturer_Mercedes_B        1.60\n",
       "7     Manufacturer_Plymouth        1.03\n",
       "8      Manufacturer_Porsche        1.38\n",
       "9       Manufacturer_Toyota        1.15\n",
       "10       Manufacturer_Volvo        1.05\n",
       "11       Price_in_thousands        3.18\n",
       "12   Vehicle_type_Passenger        2.61"
      ]
     },
     "execution_count": 98,
     "metadata": {},
     "output_type": "execute_result"
    }
   ],
   "source": [
    "vif = pd.DataFrame()\n",
    "\n",
    "vif['Features'] = x.columns\n",
    "vif['vif_factor'] = [variance_inflation_factor(x.values,i) for i in range(x.shape[1])]\n",
    "vif.round(2)"
   ]
  },
  {
   "cell_type": "code",
   "execution_count": 99,
   "id": "24b9f40d",
   "metadata": {},
   "outputs": [],
   "source": [
    "feat_final = list(set(vif.loc[:,'Features']).difference(['Intercept']))"
   ]
  },
  {
   "cell_type": "code",
   "execution_count": 100,
   "id": "b87b9023",
   "metadata": {},
   "outputs": [
    {
     "data": {
      "text/plain": [
       "['Manufacturer_Porsche',\n",
       " 'Manufacturer_Plymouth',\n",
       " 'Manufacturer_Ford',\n",
       " 'Manufacturer_Volvo',\n",
       " 'Fuel_efficiency',\n",
       " 'Manufacturer_Mercedes_B',\n",
       " 'Length',\n",
       " 'Manufacturer_Honda',\n",
       " 'Vehicle_type_Passenger',\n",
       " 'Manufacturer_Toyota',\n",
       " 'Price_in_thousands',\n",
       " 'Manufacturer_Audi']"
      ]
     },
     "execution_count": 100,
     "metadata": {},
     "output_type": "execute_result"
    }
   ],
   "source": [
    "feat_final"
   ]
  },
  {
   "cell_type": "markdown",
   "id": "bc6246c6",
   "metadata": {},
   "source": [
    "### Train & Test Model"
   ]
  },
  {
   "cell_type": "code",
   "execution_count": 101,
   "id": "ca33ca72",
   "metadata": {},
   "outputs": [],
   "source": [
    "train,test = train_test_split(car_final,test_size=0.3,random_state=12345)"
   ]
  },
  {
   "cell_type": "markdown",
   "id": "a064977d",
   "metadata": {},
   "source": [
    "### Building LR Model"
   ]
  },
  {
   "cell_type": "code",
   "execution_count": 102,
   "id": "29c0258a",
   "metadata": {},
   "outputs": [],
   "source": [
    "predictors = car_final.columns.difference(['Sales_in_thousands','ln_sales'])"
   ]
  },
  {
   "cell_type": "markdown",
   "id": "6648a813",
   "metadata": {},
   "source": [
    "##### Model 0"
   ]
  },
  {
   "cell_type": "code",
   "execution_count": 103,
   "id": "6e343c99",
   "metadata": {},
   "outputs": [],
   "source": [
    "m0 = 'ln_sales ~ ' + ' + '.join(predictors)"
   ]
  },
  {
   "cell_type": "code",
   "execution_count": 104,
   "id": "b97f43df",
   "metadata": {},
   "outputs": [],
   "source": [
    "lm0 = smf.ols(m0,car_final).fit()"
   ]
  },
  {
   "cell_type": "code",
   "execution_count": 105,
   "id": "a1bd3b27",
   "metadata": {},
   "outputs": [
    {
     "name": "stdout",
     "output_type": "stream",
     "text": [
      "                            OLS Regression Results                            \n",
      "==============================================================================\n",
      "Dep. Variable:               ln_sales   R-squared:                       0.707\n",
      "Model:                            OLS   Adj. R-squared:                  0.603\n",
      "Method:                 Least Squares   F-statistic:                     6.777\n",
      "Date:                Tue, 27 Sep 2022   Prob (F-statistic):           2.47e-16\n",
      "Time:                        18:53:15   Log-Likelihood:                -162.17\n",
      "No. Observations:                 157   AIC:                             408.3\n",
      "Df Residuals:                     115   BIC:                             536.7\n",
      "Df Model:                          41                                         \n",
      "Covariance Type:            nonrobust                                         \n",
      "===========================================================================================\n",
      "                              coef    std err          t      P>|t|      [0.025      0.975]\n",
      "-------------------------------------------------------------------------------------------\n",
      "Intercept                  -7.3949      2.827     -2.616      0.010     -12.995      -1.795\n",
      "Curb_weight                 0.8339      0.373      2.237      0.027       0.096       1.572\n",
      "Engine_size                 0.3348      0.240      1.393      0.166      -0.141       0.811\n",
      "Fuel_capacity              -0.1160      0.045     -2.590      0.011      -0.205      -0.027\n",
      "Fuel_efficiency             0.1460      0.048      3.026      0.003       0.050       0.242\n",
      "Horsepower                 -0.0205      0.020     -1.003      0.318      -0.061       0.020\n",
      "Length                     -0.0013      0.016     -0.080      0.936      -0.033       0.030\n",
      "Manufacturer_Audi           0.1601      0.669      0.239      0.811      -1.165       1.485\n",
      "Manufacturer_BMW           -0.1369      0.658     -0.208      0.836      -1.441       1.167\n",
      "Manufacturer_Buick          0.6725      0.627      1.073      0.285      -0.569       1.914\n",
      "Manufacturer_Cadillac       0.3151      0.596      0.529      0.598      -0.865       1.496\n",
      "Manufacturer_Chevrolet      0.3966      0.585      0.678      0.499      -0.762       1.555\n",
      "Manufacturer_Chrysler       0.0602      0.569      0.106      0.916      -1.067       1.187\n",
      "Manufacturer_Dodge          0.6017      0.572      1.052      0.295      -0.531       1.734\n",
      "Manufacturer_Ford           1.3657      0.562      2.432      0.017       0.253       2.478\n",
      "Manufacturer_Honda          0.8087      0.598      1.352      0.179      -0.376       1.993\n",
      "Manufacturer_Hyundai        0.6067      0.675      0.899      0.370      -0.729       1.943\n",
      "Manufacturer_Infiniti       0.4977      0.927      0.537      0.592      -1.339       2.334\n",
      "Manufacturer_Jaguar         0.9630      0.955      1.008      0.316      -0.930       2.856\n",
      "Manufacturer_Jeep           2.1887      0.747      2.930      0.004       0.709       3.668\n",
      "Manufacturer_Lexus          0.6220      0.570      1.091      0.277      -0.507       1.751\n",
      "Manufacturer_Lincoln        0.6680      0.691      0.967      0.335      -0.700       2.036\n",
      "Manufacturer_Mercedes_B     0.5470      0.569      0.962      0.338      -0.579       1.673\n",
      "Manufacturer_Mercury       -0.0842      0.594     -0.142      0.888      -1.261       1.092\n",
      "Manufacturer_Mitsubishi     0.1847      0.578      0.319      0.750      -0.961       1.331\n",
      "Manufacturer_Nissan         0.9555      0.571      1.675      0.097      -0.175       2.086\n",
      "Manufacturer_Oldsmobile    -0.5519      0.571     -0.966      0.336      -1.684       0.580\n",
      "Manufacturer_Plymouth      -0.9719      0.690     -1.408      0.162      -2.339       0.396\n",
      "Manufacturer_Pontiac        0.4895      0.588      0.832      0.407      -0.676       1.655\n",
      "Manufacturer_Porsche        1.2696      0.804      1.579      0.117      -0.323       2.862\n",
      "Manufacturer_Saab           0.5488      0.762      0.720      0.473      -0.961       2.058\n",
      "Manufacturer_Saturn        -1.0301      0.612     -1.682      0.095      -2.243       0.183\n",
      "Manufacturer_Subaru         0.6338      0.745      0.850      0.397      -0.843       2.110\n",
      "Manufacturer_Toyota         0.9024      0.556      1.622      0.108      -0.200       2.004\n",
      "Manufacturer_Volkswagen     0.1639      0.596      0.275      0.784      -1.017       1.345\n",
      "Manufacturer_Volvo          0.2496      0.581      0.430      0.668      -0.901       1.401\n",
      "Power_perf_factor           0.0503      0.057      0.877      0.382      -0.063       0.164\n",
      "Price_in_thousands         -0.0898      0.028     -3.166      0.002      -0.146      -0.034\n",
      "Vehicle_type_Passenger     -0.4557      0.336     -1.358      0.177      -1.121       0.209\n",
      "Wheelbase                   0.0741      0.026      2.895      0.005       0.023       0.125\n",
      "Width                      -0.0078      0.042     -0.184      0.854      -0.092       0.076\n",
      "four_year_resale_value      0.0325      0.015      2.201      0.030       0.003       0.062\n",
      "==============================================================================\n",
      "Omnibus:                       12.166   Durbin-Watson:                   2.005\n",
      "Prob(Omnibus):                  0.002   Jarque-Bera (JB):               15.353\n",
      "Skew:                          -0.500   Prob(JB):                     0.000464\n",
      "Kurtosis:                       4.160   Cond. No.                     1.44e+04\n",
      "==============================================================================\n",
      "\n",
      "Notes:\n",
      "[1] Standard Errors assume that the covariance matrix of the errors is correctly specified.\n",
      "[2] The condition number is large, 1.44e+04. This might indicate that there are\n",
      "strong multicollinearity or other numerical problems.\n"
     ]
    }
   ],
   "source": [
    "print(lm0.summary())"
   ]
  },
  {
   "cell_type": "markdown",
   "id": "1999c919",
   "metadata": {},
   "source": [
    "##### Model 1"
   ]
  },
  {
   "cell_type": "code",
   "execution_count": 106,
   "id": "4b099e0b",
   "metadata": {},
   "outputs": [],
   "source": [
    "m1 = 'ln_sales ~ ' + ' + '.join(feat_final)"
   ]
  },
  {
   "cell_type": "code",
   "execution_count": 107,
   "id": "ecfec969",
   "metadata": {},
   "outputs": [],
   "source": [
    "lm1 = smf.ols(m1,train).fit()"
   ]
  },
  {
   "cell_type": "code",
   "execution_count": 108,
   "id": "c4b2876e",
   "metadata": {},
   "outputs": [
    {
     "name": "stdout",
     "output_type": "stream",
     "text": [
      "                            OLS Regression Results                            \n",
      "==============================================================================\n",
      "Dep. Variable:               ln_sales   R-squared:                       0.584\n",
      "Model:                            OLS   Adj. R-squared:                  0.532\n",
      "Method:                 Least Squares   F-statistic:                     11.21\n",
      "Date:                Tue, 27 Sep 2022   Prob (F-statistic):           1.15e-13\n",
      "Time:                        18:53:15   Log-Likelihood:                -132.77\n",
      "No. Observations:                 109   AIC:                             291.5\n",
      "Df Residuals:                      96   BIC:                             326.5\n",
      "Df Model:                          12                                         \n",
      "Covariance Type:            nonrobust                                         \n",
      "===========================================================================================\n",
      "                              coef    std err          t      P>|t|      [0.025      0.975]\n",
      "-------------------------------------------------------------------------------------------\n",
      "Intercept                  -3.6312      2.191     -1.657      0.101      -7.980       0.717\n",
      "Manufacturer_Porsche        0.3754      0.662      0.567      0.572      -0.938       1.689\n",
      "Manufacturer_Plymouth      -0.8429      0.456     -1.848      0.068      -1.748       0.063\n",
      "Manufacturer_Ford           1.4343      0.376      3.815      0.000       0.688       2.181\n",
      "Manufacturer_Volvo         -0.3032      0.456     -0.665      0.508      -1.208       0.602\n",
      "Fuel_efficiency             0.0639      0.045      1.425      0.157      -0.025       0.153\n",
      "Manufacturer_Mercedes_B     0.3780      0.475      0.795      0.428      -0.565       1.321\n",
      "Length                      0.0375      0.008      4.517      0.000       0.021       0.054\n",
      "Manufacturer_Honda          1.0403      0.473      2.200      0.030       0.102       1.979\n",
      "Vehicle_type_Passenger     -0.6738      0.305     -2.209      0.030      -1.279      -0.068\n",
      "Manufacturer_Toyota         0.6143      0.351      1.750      0.083      -0.082       1.311\n",
      "Price_in_thousands         -0.0472      0.012     -4.091      0.000      -0.070      -0.024\n",
      "Manufacturer_Audi          -0.4876      0.659     -0.740      0.461      -1.795       0.820\n",
      "==============================================================================\n",
      "Omnibus:                       29.864   Durbin-Watson:                   1.958\n",
      "Prob(Omnibus):                  0.000   Jarque-Bera (JB):               57.028\n",
      "Skew:                          -1.128   Prob(JB):                     4.13e-13\n",
      "Kurtosis:                       5.733   Cond. No.                     5.04e+03\n",
      "==============================================================================\n",
      "\n",
      "Notes:\n",
      "[1] Standard Errors assume that the covariance matrix of the errors is correctly specified.\n",
      "[2] The condition number is large, 5.04e+03. This might indicate that there are\n",
      "strong multicollinearity or other numerical problems.\n"
     ]
    }
   ],
   "source": [
    "print(lm1.summary())"
   ]
  },
  {
   "cell_type": "markdown",
   "id": "17644d5d",
   "metadata": {},
   "source": [
    "##### Model  2"
   ]
  },
  {
   "cell_type": "raw",
   "id": "84577bb5",
   "metadata": {},
   "source": [
    "#Feature Reduced\n",
    "1.Manufacturer_Porsche\n",
    "2.Manufacturer_Mercedes_B\n",
    "3.Manufacturer_Volvo\n",
    "4.Manufacturer_Audi\n",
    "5.Manufacturer_Toyota\n",
    "6.Manufacturer_Honda\n",
    "7.Manufacturer_Plymouth"
   ]
  },
  {
   "cell_type": "code",
   "execution_count": 109,
   "id": "b06a3347",
   "metadata": {},
   "outputs": [],
   "source": [
    "m2 = '''ln_sales ~ Fuel_efficiency +\n",
    "            Vehicle_type_Passenger +\n",
    "            Price_in_thousands + Length +\n",
    "            Manufacturer_Ford'''"
   ]
  },
  {
   "cell_type": "code",
   "execution_count": 110,
   "id": "20862402",
   "metadata": {},
   "outputs": [],
   "source": [
    "lm2 = smf.ols(m2,train).fit()"
   ]
  },
  {
   "cell_type": "code",
   "execution_count": 111,
   "id": "d8790229",
   "metadata": {},
   "outputs": [
    {
     "name": "stdout",
     "output_type": "stream",
     "text": [
      "                            OLS Regression Results                            \n",
      "==============================================================================\n",
      "Dep. Variable:               ln_sales   R-squared:                       0.526\n",
      "Model:                            OLS   Adj. R-squared:                  0.503\n",
      "Method:                 Least Squares   F-statistic:                     22.83\n",
      "Date:                Tue, 27 Sep 2022   Prob (F-statistic):           2.33e-15\n",
      "Time:                        18:53:15   Log-Likelihood:                -139.86\n",
      "No. Observations:                 109   AIC:                             291.7\n",
      "Df Residuals:                     103   BIC:                             307.9\n",
      "Df Model:                           5                                         \n",
      "Covariance Type:            nonrobust                                         \n",
      "==========================================================================================\n",
      "                             coef    std err          t      P>|t|      [0.025      0.975]\n",
      "------------------------------------------------------------------------------------------\n",
      "Intercept                 -4.9651      2.189     -2.268      0.025      -9.307      -0.623\n",
      "Fuel_efficiency            0.1142      0.042      2.721      0.008       0.031       0.197\n",
      "Vehicle_type_Passenger    -1.0441      0.282     -3.702      0.000      -1.603      -0.485\n",
      "Price_in_thousands        -0.0393      0.009     -4.290      0.000      -0.057      -0.021\n",
      "Length                     0.0388      0.008      4.930      0.000       0.023       0.054\n",
      "Manufacturer_Ford          1.3469      0.382      3.522      0.001       0.588       2.105\n",
      "==============================================================================\n",
      "Omnibus:                       19.935   Durbin-Watson:                   2.133\n",
      "Prob(Omnibus):                  0.000   Jarque-Bera (JB):               28.787\n",
      "Skew:                          -0.879   Prob(JB):                     5.61e-07\n",
      "Kurtosis:                       4.803   Cond. No.                     4.88e+03\n",
      "==============================================================================\n",
      "\n",
      "Notes:\n",
      "[1] Standard Errors assume that the covariance matrix of the errors is correctly specified.\n",
      "[2] The condition number is large, 4.88e+03. This might indicate that there are\n",
      "strong multicollinearity or other numerical problems.\n"
     ]
    }
   ],
   "source": [
    "print(lm2.summary())"
   ]
  },
  {
   "cell_type": "markdown",
   "id": "745766f7",
   "metadata": {},
   "source": [
    "### Predict the Output"
   ]
  },
  {
   "cell_type": "code",
   "execution_count": 112,
   "id": "5274cca4",
   "metadata": {},
   "outputs": [
    {
     "name": "stderr",
     "output_type": "stream",
     "text": [
      "C:\\Users\\Nithin\\anaconda3\\lib\\site-packages\\pandas\\core\\indexing.py:1667: SettingWithCopyWarning: \n",
      "A value is trying to be set on a copy of a slice from a DataFrame.\n",
      "Try using .loc[row_indexer,col_indexer] = value instead\n",
      "\n",
      "See the caveats in the documentation: https://pandas.pydata.org/pandas-docs/stable/user_guide/indexing.html#returning-a-view-versus-a-copy\n",
      "  self.obj[key] = value\n"
     ]
    }
   ],
   "source": [
    "train.loc[:,'Pred_sales'] = np.exp(lm2.predict(train))"
   ]
  },
  {
   "cell_type": "code",
   "execution_count": 113,
   "id": "a0a6e4ec",
   "metadata": {},
   "outputs": [
    {
     "name": "stderr",
     "output_type": "stream",
     "text": [
      "C:\\Users\\Nithin\\AppData\\Local\\Temp/ipykernel_18836/16629166.py:1: SettingWithCopyWarning: \n",
      "A value is trying to be set on a copy of a slice from a DataFrame.\n",
      "Try using .loc[row_indexer,col_indexer] = value instead\n",
      "\n",
      "See the caveats in the documentation: https://pandas.pydata.org/pandas-docs/stable/user_guide/indexing.html#returning-a-view-versus-a-copy\n",
      "  test['pred_sales'] = np.exp(lm2.predict(test))\n"
     ]
    }
   ],
   "source": [
    "test['pred_sales'] = np.exp(lm2.predict(test))"
   ]
  },
  {
   "cell_type": "code",
   "execution_count": 114,
   "id": "faa115ec",
   "metadata": {},
   "outputs": [
    {
     "data": {
      "text/plain": [
       "Sales_in_thousands    51.427006\n",
       "Pred_sales            39.738783\n",
       "dtype: float64"
      ]
     },
     "execution_count": 114,
     "metadata": {},
     "output_type": "execute_result"
    }
   ],
   "source": [
    "train[['Sales_in_thousands','Pred_sales']].mean()"
   ]
  },
  {
   "cell_type": "markdown",
   "id": "25c21fdc",
   "metadata": {},
   "source": [
    "### Scoring Model"
   ]
  },
  {
   "cell_type": "markdown",
   "id": "fba4961d",
   "metadata": {},
   "source": [
    "##### MSE"
   ]
  },
  {
   "cell_type": "code",
   "execution_count": 115,
   "id": "47ab2d77",
   "metadata": {},
   "outputs": [
    {
     "name": "stdout",
     "output_type": "stream",
     "text": [
      "MSE of training data:  2455.25  |  MSE of testing data:  4302.98\n",
      "RMSE of training data:  49.55  |  RMSE of testing data:  65.6\n"
     ]
    }
   ],
   "source": [
    "MSE_train = mean_squared_error(train.Sales_in_thousands,train.Pred_sales).round(2)\n",
    "MSE_test = mean_squared_error(test.Sales_in_thousands,test.pred_sales).round(2)\n",
    "\n",
    "RMSE_train = np.sqrt(MSE_train).round(2)\n",
    "RMSE_test = np.sqrt(MSE_test).round(2)\n",
    "\n",
    "print('MSE of training data: ', MSE_train,  ' | ', 'MSE of testing data: ', MSE_test)\n",
    "print('RMSE of training data: ', RMSE_train,  ' | ', 'RMSE of testing data: ', RMSE_test)"
   ]
  },
  {
   "cell_type": "markdown",
   "id": "822eb7ea",
   "metadata": {},
   "source": [
    "##### MAE"
   ]
  },
  {
   "cell_type": "code",
   "execution_count": 116,
   "id": "69acef01",
   "metadata": {},
   "outputs": [
    {
     "name": "stdout",
     "output_type": "stream",
     "text": [
      "MAE of training data:  28.89  |  MAE of testing data:  35.96\n"
     ]
    }
   ],
   "source": [
    "MAE_train = mean_absolute_error(train.Sales_in_thousands,train.Pred_sales).round(2)\n",
    "MAE_test = mean_absolute_error(test.Sales_in_thousands,test.pred_sales).round(2)\n",
    "\n",
    "print('MAE of training data: ', MAE_train,  ' | ', 'MAE of testing data: ', MAE_test)"
   ]
  },
  {
   "cell_type": "markdown",
   "id": "66287f0c",
   "metadata": {},
   "source": [
    "##### MAPE"
   ]
  },
  {
   "cell_type": "code",
   "execution_count": 117,
   "id": "f54a0c89",
   "metadata": {},
   "outputs": [
    {
     "name": "stdout",
     "output_type": "stream",
     "text": [
      "MAPE of training data:  1.13  |  MAPE of testing data:  0.77\n"
     ]
    }
   ],
   "source": [
    "MAPE_train = mean_absolute_percentage_error(train.Sales_in_thousands,train.Pred_sales).round(2)\n",
    "MAPE_test = mean_absolute_percentage_error(test.Sales_in_thousands,test.pred_sales).round(2)\n",
    "\n",
    "print('MAPE of training data: ', MAPE_train,  ' | ', 'MAPE of testing data: ', MAPE_test)"
   ]
  },
  {
   "cell_type": "markdown",
   "id": "d25b2099",
   "metadata": {},
   "source": [
    "##### Co-relation"
   ]
  },
  {
   "cell_type": "code",
   "execution_count": 124,
   "id": "ff2ad820",
   "metadata": {},
   "outputs": [
    {
     "data": {
      "image/png": "[encoded data removed]",
      "text/plain": [
       "<Figure size 432x288 with 2 Axes>"
      ]
     },
     "metadata": {
      "needs_background": "light"
     },
     "output_type": "display_data"
    },
    {
     "data": {
      "text/plain": [
       "<AxesSubplot:>"
      ]
     },
     "execution_count": 124,
     "metadata": {},
     "output_type": "execute_result"
    },
    {
     "data": {
      "image/png": "[encoded data removed]",
      "text/plain": [
       "<Figure size 432x288 with 2 Axes>"
      ]
     },
     "metadata": {
      "needs_background": "light"
     },
     "output_type": "display_data"
    }
   ],
   "source": [
    "sns.heatmap(train[['Sales_in_thousands','Pred_sales']].corr(),annot=True)\n",
    "plt.show()\n",
    "sns.heatmap(test[['Sales_in_thousands','pred_sales']].corr(),annot=True)"
   ]
  },
  {
   "cell_type": "code",
   "execution_count": 126,
   "id": "b1fe1afc",
   "metadata": {},
   "outputs": [
    {
     "name": "stderr",
     "output_type": "stream",
     "text": [
      "C:\\Users\\Nithin\\anaconda3\\lib\\site-packages\\seaborn\\_decorators.py:36: FutureWarning: Pass the following variables as keyword args: x, y. From version 0.12, the only valid positional argument will be `data`, and passing other arguments without an explicit keyword will result in an error or misinterpretation.\n",
      "  warnings.warn(\n"
     ]
    },
    {
     "data": {
      "image/png": "[encoded data removed]",
      "text/plain": [
       "<Figure size 432x288 with 1 Axes>"
      ]
     },
     "metadata": {
      "needs_background": "light"
     },
     "output_type": "display_data"
    },
    {
     "name": "stderr",
     "output_type": "stream",
     "text": [
      "C:\\Users\\Nithin\\anaconda3\\lib\\site-packages\\seaborn\\_decorators.py:36: FutureWarning: Pass the following variables as keyword args: x, y. From version 0.12, the only valid positional argument will be `data`, and passing other arguments without an explicit keyword will result in an error or misinterpretation.\n",
      "  warnings.warn(\n"
     ]
    },
    {
     "data": {
      "text/plain": [
       "<AxesSubplot:xlabel='Sales_in_thousands', ylabel='pred_sales'>"
      ]
     },
     "execution_count": 126,
     "metadata": {},
     "output_type": "execute_result"
    },
    {
     "data": {
      "image/png": "[encoded data removed]",
      "text/plain": [
       "<Figure size 432x288 with 1 Axes>"
      ]
     },
     "metadata": {
      "needs_background": "light"
     },
     "output_type": "display_data"
    }
   ],
   "source": [
    "sns.scatterplot(train.Sales_in_thousands,train.Pred_sales)\n",
    "plt.show()\n",
    "sns.scatterplot(test.Sales_in_thousands,test.pred_sales)"
   ]
  },
  {
   "cell_type": "markdown",
   "id": "11f01130",
   "metadata": {},
   "source": [
    "### Model Validation"
   ]
  },
  {
   "cell_type": "markdown",
   "id": "dd071a6d",
   "metadata": {},
   "source": [
    "##### Decile Analysis"
   ]
  },
  {
   "cell_type": "code",
   "execution_count": 132,
   "id": "1ef93621",
   "metadata": {},
   "outputs": [
    {
     "name": "stderr",
     "output_type": "stream",
     "text": [
      "C:\\Users\\Nithin\\anaconda3\\lib\\site-packages\\pandas\\core\\indexing.py:1773: SettingWithCopyWarning: \n",
      "A value is trying to be set on a copy of a slice from a DataFrame.\n",
      "Try using .loc[row_indexer,col_indexer] = value instead\n",
      "\n",
      "See the caveats in the documentation: https://pandas.pydata.org/pandas-docs/stable/user_guide/indexing.html#returning-a-view-versus-a-copy\n",
      "  self._setitem_single_column(ilocs[0], value, pi)\n",
      "C:\\Users\\Nithin\\anaconda3\\lib\\site-packages\\pandas\\core\\indexing.py:1667: SettingWithCopyWarning: \n",
      "A value is trying to be set on a copy of a slice from a DataFrame.\n",
      "Try using .loc[row_indexer,col_indexer] = value instead\n",
      "\n",
      "See the caveats in the documentation: https://pandas.pydata.org/pandas-docs/stable/user_guide/indexing.html#returning-a-view-versus-a-copy\n",
      "  self.obj[key] = value\n"
     ]
    }
   ],
   "source": [
    "train.loc[:,'Decile'] = pd.qcut(train.Pred_sales,10,labels=False)\n",
    "test.loc[:,'Decile'] = pd.qcut(test.pred_sales,10,labels=False)"
   ]
  },
  {
   "cell_type": "code",
   "execution_count": 148,
   "id": "19f55382",
   "metadata": {},
   "outputs": [],
   "source": [
    "DA_train = train.groupby('Decile')[['Sales_in_thousands','Pred_sales']].mean().round(2).sort_index( ascending = False)\n",
    "DA_test = test.groupby('Decile')[['Sales_in_thousands','pred_sales']].mean().round(2).sort_index( ascending = False)"
   ]
  },
  {
   "cell_type": "code",
   "execution_count": 160,
   "id": "1c2db25f",
   "metadata": {},
   "outputs": [],
   "source": [
    "DA_train.to_csv('C:/Users/Nithin/Downloads/Car Sales/Datasets/DA_train.csv')\n",
    "DA_test.to_csv('C:/Users/Nithin/Downloads/Car Sales/Datasets/DA_test.csv')"
   ]
  },
  {
   "cell_type": "code",
   "execution_count": 154,
   "id": "14f43826",
   "metadata": {},
   "outputs": [
    {
     "name": "stderr",
     "output_type": "stream",
     "text": [
      "C:\\Users\\Nithin\\anaconda3\\lib\\site-packages\\seaborn\\distributions.py:2619: FutureWarning: `distplot` is a deprecated function and will be removed in a future version. Please adapt your code to use either `displot` (a figure-level function with similar flexibility) or `histplot` (an axes-level function for histograms).\n",
      "  warnings.warn(msg, FutureWarning)\n"
     ]
    },
    {
     "data": {
      "text/plain": [
       "<AxesSubplot:ylabel='Density'>"
      ]
     },
     "execution_count": 154,
     "metadata": {},
     "output_type": "execute_result"
    },
    {
     "data": {
      "image/png": "[encoded data removed]",
      "text/plain": [
       "<Figure size 432x288 with 1 Axes>"
      ]
     },
     "metadata": {
      "needs_background": "light"
     },
     "output_type": "display_data"
    }
   ],
   "source": [
    "#Error - Normal\n",
    "sns.distplot(lm2.resid)"
   ]
  },
  {
   "cell_type": "code",
   "execution_count": 156,
   "id": "e9c4df63",
   "metadata": {},
   "outputs": [
    {
     "data": {
      "text/plain": [
       "2.0526903316762184e-14"
      ]
     },
     "execution_count": 156,
     "metadata": {},
     "output_type": "execute_result"
    }
   ],
   "source": [
    "#Error Mean to be zero\n",
    "lm2.resid.mean()"
   ]
  },
  {
   "cell_type": "code",
   "execution_count": 157,
   "id": "ee06b07a",
   "metadata": {},
   "outputs": [
    {
     "data": {
      "text/plain": [
       "(0.6886799858071841, 1.2713487518659242e-16)"
      ]
     },
     "execution_count": 157,
     "metadata": {},
     "output_type": "execute_result"
    }
   ],
   "source": [
    "#Error not to be corel to y var\n",
    "stats.stats.pearsonr(lm2.resid,train.ln_sales)"
   ]
  },
  {
   "cell_type": "code",
   "execution_count": 158,
   "id": "0ef9fd8e",
   "metadata": {},
   "outputs": [
    {
     "name": "stderr",
     "output_type": "stream",
     "text": [
      "C:\\Users\\Nithin\\anaconda3\\lib\\site-packages\\seaborn\\_decorators.py:36: FutureWarning: Pass the following variables as keyword args: x, y. From version 0.12, the only valid positional argument will be `data`, and passing other arguments without an explicit keyword will result in an error or misinterpretation.\n",
      "  warnings.warn(\n"
     ]
    },
    {
     "data": {
      "text/plain": [
       "<AxesSubplot:ylabel='ln_sales'>"
      ]
     },
     "execution_count": 158,
     "metadata": {},
     "output_type": "execute_result"
    },
    {
     "data": {
      "image/png": "[encoded data removed]",
      "text/plain": [
       "<Figure size 432x288 with 1 Axes>"
      ]
     },
     "metadata": {
      "needs_background": "light"
     },
     "output_type": "display_data"
    }
   ],
   "source": [
    "#Error Homosedasticity\n",
    "sns.scatterplot(lm2.resid,train.ln_sales)"
   ]
  },
  {
   "cell_type": "markdown",
   "id": "99f19da2",
   "metadata": {},
   "source": [
    "### Conclusion\n",
    "\n",
    "##### 1. Small Sample so not able to predict\n",
    "##### 2. Assumption in the model are not true"
   ]
  }
 ],
 "metadata": {
  "kernelspec": {
   "display_name": "Python 3 (ipykernel)",
   "language": "python",
   "name": "python3"
  },
  "language_info": {
   "codemirror_mode": {
    "name": "ipython",
    "version": 3
   },
   "file_extension": ".py",
   "mimetype": "text/x-python",
   "name": "python",
   "nbconvert_exporter": "python",
   "pygments_lexer": "ipython3",
   "version": "3.9.7"
  }
 },
 "nbformat": 4,
 "nbformat_minor": 5
}
